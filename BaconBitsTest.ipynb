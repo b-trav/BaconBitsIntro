{
 "cells": [
  {
   "cell_type": "markdown",
   "metadata": {},
   "source": [
    "This is a notebook that I have created to test the various features of the BaconBits cape."
   ]
  },
  {
   "cell_type": "markdown",
   "metadata": {},
   "source": [
    "In order to easily use this notebook, I first need to get the PocketBeagle hooked up to the internet.\n",
    "\n",
    "To do this, on my laptop, I type:\n",
    "```\n",
    "sudo su\n",
    "iptables --table nat --append POSTROUTING --out-interface wlp3s0 -j MASQUERADE\n",
    "iptables --append FORWARD --in-interface enx38d269566e5d -j ACCEPT\n",
    "echo 1 > /proc/sys/net/ipv4/ip_forward\n",
    "exit\n",
    "```\n",
    "and then on the PocketBeagle I type:\n",
    "```\n",
    "sudo su\n",
    "ip route add default via 192.168.7.1\n",
    "echo \"nameserver 8.8.8.8\" >> /etc/resolv.conf\n",
    "exit\n",
    "```\n",
    "\n",
    "I then cloned the git repository using:\n",
    "```\n",
    "git clone https://github.com/b-trav/BaconBitsIntro.git\n",
    "```\n",
    "\n",
    "Initially when I set up git I did these commands to set my username, email, and to allow me to push without typing my github password:\n",
    "```\n",
    "git config --global user.name \"Ben Travaglione\"\n",
    "git config --global user.email \"ben@travaglione.com\"\n",
    "git config --global credential.helper store\n",
    "```"
   ]
  },
  {
   "cell_type": "markdown",
   "metadata": {},
   "source": [
    "## Potentiometer"
   ]
  },
  {
   "cell_type": "markdown",
   "metadata": {},
   "source": [
    "Let's look at the potentiometer on the BaconBits.\n",
    "\n",
    "In bash, we can grab the value of the potentiometer very easily:"
   ]
  },
  {
   "cell_type": "code",
   "execution_count": 3,
   "metadata": {},
   "outputs": [
    {
     "name": "stdout",
     "output_type": "stream",
     "text": [
      "/sys/bus/iio/devices/iio:device0/in_voltage0_raw\n",
      "462\n"
     ]
    }
   ],
   "source": [
    "f = '/sys/bus/iio/devices/iio\\:device0/in_voltage0_raw'\n",
    "!ls $f\n",
    "!cat $f\n"
   ]
  },
  {
   "cell_type": "markdown",
   "metadata": {},
   "source": [
    "This can be a bit trickier in python because it does not seem to like the filename for some reason:"
   ]
  },
  {
   "cell_type": "code",
   "execution_count": 4,
   "metadata": {},
   "outputs": [
    {
     "ename": "IOError",
     "evalue": "[Errno 2] No such file or directory: '/sys/bus/iio/devices/iio\\\\:device0/in_voltage0_raw'",
     "output_type": "error",
     "traceback": [
      "\u001b[0;31m\u001b[0m",
      "\u001b[0;31mIOError\u001b[0mTraceback (most recent call last)",
      "\u001b[0;32m<ipython-input-4-62a64fec0b8a>\u001b[0m in \u001b[0;36m<module>\u001b[0;34m()\u001b[0m\n\u001b[0;32m----> 1\u001b[0;31m \u001b[0;32mwith\u001b[0m \u001b[0mopen\u001b[0m\u001b[0;34m(\u001b[0m\u001b[0mf\u001b[0m\u001b[0;34m,\u001b[0m\u001b[0;34m'r'\u001b[0m\u001b[0;34m)\u001b[0m \u001b[0;32mas\u001b[0m \u001b[0mpot\u001b[0m\u001b[0;34m:\u001b[0m\u001b[0;34m\u001b[0m\u001b[0m\n\u001b[0m\u001b[1;32m      2\u001b[0m     \u001b[0mval\u001b[0m \u001b[0;34m=\u001b[0m \u001b[0mpot\u001b[0m\u001b[0;34m.\u001b[0m\u001b[0mreadline\u001b[0m\u001b[0;34m(\u001b[0m\u001b[0;34m)\u001b[0m\u001b[0;34m\u001b[0m\u001b[0m\n\u001b[1;32m      3\u001b[0m     \u001b[0;32mprint\u001b[0m\u001b[0;34m(\u001b[0m\u001b[0mval\u001b[0m\u001b[0;34m)\u001b[0m\u001b[0;34m\u001b[0m\u001b[0m\n",
      "\u001b[0;31mIOError\u001b[0m: [Errno 2] No such file or directory: '/sys/bus/iio/devices/iio\\\\:device0/in_voltage0_raw'"
     ]
    }
   ],
   "source": [
    "with open(f,'r') as pot:\n",
    "    val = pot.readline()\n",
    "    print(val)"
   ]
  },
  {
   "cell_type": "markdown",
   "metadata": {},
   "source": [
    "I can get around this problem by creating a symbolic link:"
   ]
  },
  {
   "cell_type": "code",
   "execution_count": 5,
   "metadata": {},
   "outputs": [
    {
     "name": "stdout",
     "output_type": "stream",
     "text": [
      "ln: failed to create symbolic link 'potentiometer': File exists\r\n"
     ]
    }
   ],
   "source": [
    "!ln -s /sys/bus/iio/devices/iio\\:device0/in_voltage0_raw potentiometer"
   ]
  },
  {
   "cell_type": "code",
   "execution_count": 6,
   "metadata": {},
   "outputs": [
    {
     "name": "stdout",
     "output_type": "stream",
     "text": [
      "462\n",
      "\n"
     ]
    }
   ],
   "source": [
    "lnf = 'potentiometer'\n",
    "with open(lnf,'r') as pot:\n",
    "    val = pot.readline()\n",
    "    print(val)"
   ]
  },
  {
   "cell_type": "markdown",
   "metadata": {},
   "source": [
    "But this seems like a bit of a hack!"
   ]
  },
  {
   "cell_type": "code",
   "execution_count": null,
   "metadata": {},
   "outputs": [],
   "source": []
  }
 ],
 "metadata": {
  "kernelspec": {
   "display_name": "Python 2",
   "language": "python",
   "name": "python2"
  },
  "language_info": {
   "codemirror_mode": {
    "name": "ipython",
    "version": 2
   },
   "file_extension": ".py",
   "mimetype": "text/x-python",
   "name": "python",
   "nbconvert_exporter": "python",
   "pygments_lexer": "ipython2",
   "version": "2.7.13"
  }
 },
 "nbformat": 4,
 "nbformat_minor": 2
}
