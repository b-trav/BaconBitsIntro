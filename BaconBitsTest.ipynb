{
 "cells": [
  {
   "cell_type": "markdown",
   "metadata": {},
   "source": [
    "This is a notebook that I have created to test the various features of the BaconBits cape.\n",
    "\n",
    "I received the PocketBeagle when I enrolled in the [e-ale course](https://e-ale.org/) at the 2018 [Embedded Linux Conference](https://events.linuxfoundation.org/events/elc-openiot-north-america-2018/).\n",
    "\n",
    "The resources for this course at contained on [github](https://github.com/e-ale).\n",
    "\n",
    "The code that I am using to initially test the features of the BaconBits cape is located [here](https://github.com/e-ale/Code/tree/master/RESOURCES/pocketbeagle)."
   ]
  },
  {
   "cell_type": "markdown",
   "metadata": {},
   "source": [
    "## Wifi setup"
   ]
  },
  {
   "cell_type": "markdown",
   "metadata": {},
   "source": [
    "In order to easily use this notebook, I first need to get the PocketBeagle hooked up to the internet.\n",
    "\n",
    "To do this, on my laptop, I type:\n",
    "```\n",
    "sudo su\n",
    "iptables --table nat --append POSTROUTING --out-interface wlp3s0 -j MASQUERADE\n",
    "iptables --append FORWARD --in-interface enx38d269566e5d -j ACCEPT\n",
    "echo 1 > /proc/sys/net/ipv4/ip_forward\n",
    "exit\n",
    "```\n",
    "and then on the PocketBeagle I type:\n",
    "```\n",
    "sudo ip route add default via 192.168.7.1\n",
    "echo \"nameserver 8.8.8.8\" | sudo tee /etc/resolv.conf\n",
    "```\n",
    "\n",
    "I would like to not have to run the above commands after every reboot of the PocketBeagle, but at the moment, I don't know had to do that.\n",
    "\n",
    "I can get around the resolv.conf issue by disabling connman:\n",
    "```\n",
    "sudo systemctl disable connman.service\n",
    "```\n",
    "but can not figure out how to get the default gateway working on boot, despite having configure `/etc/network/interfaces` to:\n",
    "```\n",
    "iface usb0 inet static\n",
    "    address 192.168.7.2\n",
    "    netmask 255.255.255.0\n",
    "    gateway 192.168.7.1\n",
    "    dns-nameservers 8.8.8.8\n",
    "```\n",
    "\n",
    "I then cloned the git repository using:\n",
    "```\n",
    "git clone https://github.com/b-trav/BaconBitsIntro.git\n",
    "```\n",
    "\n",
    "Initially when I set up git I did these commands to set my username, email, and to allow me to push without typing my github password:\n",
    "```\n",
    "git config --global user.name \"Ben Travaglione\"\n",
    "git config --global user.email \"ben@travaglione.com\"\n",
    "git config --global credential.helper store\n",
    "```"
   ]
  },
  {
   "cell_type": "markdown",
   "metadata": {},
   "source": [
    "## Jupyter"
   ]
  },
  {
   "cell_type": "markdown",
   "metadata": {},
   "source": [
    "Evidently, I am writing this notebook in Jupyter, and the notebook is designed to be run on the PocketBeagle, thus you need to get Jupyter up and running on the PocketBeagle.\n",
    "\n",
    "This is accomplished with the following commands:\n",
    "\n",
    "```\n",
    "jupyter notebook --generate-config\n",
    "```\n",
    "I then allow external access to the notebook server by editing the jupyter config file:\n",
    "```\n",
    "vim .jupyter/jupyter_notebook_config.py\n",
    "```\n",
    "and uncommenting\n",
    "```\n",
    "c.NotebookApp.ip = '*'\n",
    "```\n",
    "and\n",
    "```\n",
    "c.NotebookApp.allow_root = True\n",
    "```\n",
    "\n",
    "I also need to add password access to the notebook server:\n",
    "```\n",
    "jupyter notebook password\n",
    "```\n",
    "I allow jupyter to boot as root at startup by adding:\n",
    "```\n",
    "@reboot /usr/bin/python /usr/local/bin/jupyter-notebook --config /home/debian/.jupyter/jupyter_notebook_config.py --notebook-dir /home/debian/\n",
    "```\n",
    "to my crontab by typing\n",
    "```\n",
    "sudo crontab -e\n",
    "```\n",
    "\n",
    "These days I find Jupyter annoying to use without installing extensions, so these are the commands to install some Jupyter extensions:\n",
    "```\n",
    "sudo -H pip install --upgrade pip\n",
    "sudo apt-get install python-dev libxml2-dev libxslt1-dev zlib1g-dev\n",
    "sudo -H pip install jupyter_contrib_nbextensions\n",
    "jupyter contrib nbextension install --user\n",
    "jupyter nbextension enable codefolding/main\n",
    "jupyter nbextension enable freeze/main\n",
    "jupyter nbextension enable spellchecker/main\n",
    "jupyter nbextension enable toggle_all_line_numbers/main\n",
    "jupyter nbextension enable collapsible_headings/main\n",
    "jupyter nbextension enable init_cell/main\n",
    "jupyter nbextension enable scratchpad/main\n",
    "jupyter nbextension enable toc2/main\n",
    "\n",
    "sudo -H pip install jupyter_nbextensions_configurator\n",
    "jupyter nbextensions_configurator enable --user\n",
    "```"
   ]
  },
  {
   "cell_type": "markdown",
   "metadata": {},
   "source": [
    "## Potentiometer"
   ]
  },
  {
   "cell_type": "markdown",
   "metadata": {},
   "source": [
    "Let's look at the potentiometer on the BaconBits.\n",
    "\n",
    "In bash, we can grab the value of the potentiometer very easily:"
   ]
  },
  {
   "cell_type": "code",
   "execution_count": null,
   "metadata": {},
   "outputs": [],
   "source": [
    "f = '/sys/bus/iio/devices/iio\\:device0/in_voltage0_raw'\n",
    "!ls $f\n",
    "!cat $f\n"
   ]
  },
  {
   "cell_type": "markdown",
   "metadata": {},
   "source": [
    "This can be a bit trickier in python because it does not seem to like the filename for some reason:"
   ]
  },
  {
   "cell_type": "code",
   "execution_count": null,
   "metadata": {},
   "outputs": [],
   "source": [
    "with open(f,'r') as pot:\n",
    "    val = pot.readline()\n",
    "    print(val)"
   ]
  },
  {
   "cell_type": "markdown",
   "metadata": {},
   "source": [
    "I can get around this problem by creating a symbolic link:"
   ]
  },
  {
   "cell_type": "code",
   "execution_count": null,
   "metadata": {},
   "outputs": [],
   "source": [
    "!rm potentiometer\n",
    "!ln -s /sys/bus/iio/devices/iio\\:device0/in_voltage0_raw potentiometer"
   ]
  },
  {
   "cell_type": "code",
   "execution_count": null,
   "metadata": {},
   "outputs": [],
   "source": [
    "lnf = 'potentiometer'\n",
    "with open(lnf,'r') as pot:\n",
    "    val = pot.readline()\n",
    "    print(val)"
   ]
  },
  {
   "cell_type": "markdown",
   "metadata": {},
   "source": [
    "But this seems like a bit of a hack!"
   ]
  },
  {
   "cell_type": "markdown",
   "metadata": {},
   "source": [
    "# User Button"
   ]
  },
  {
   "cell_type": "markdown",
   "metadata": {},
   "source": [
    "In bash, we can get the status of the user button with:"
   ]
  },
  {
   "cell_type": "code",
   "execution_count": null,
   "metadata": {},
   "outputs": [],
   "source": [
    "!cat /sys/class/gpio/gpio45/value"
   ]
  },
  {
   "cell_type": "code",
   "execution_count": null,
   "metadata": {},
   "outputs": [],
   "source": [
    "from IPython.display import clear_output\n",
    "\n",
    "button_filename = '/sys/class/gpio/gpio45/value'\n",
    "with open(button_filename,'r') as button_file:\n",
    "    val = button_file.readline()\n",
    "last_val = val\n",
    "print(\"Current User-button value: {} (Interrupt the kernel to quit)\".format(val))\n",
    "while True:\n",
    "    with open(button_filename,'r') as button_file:\n",
    "        val = button_file.readline()\n",
    "    if not (val == last_val):\n",
    "        last_val = val\n",
    "        clear_output()\n",
    "        print(\"Current User-button value: {} (Interrupt the kernel to quit)\".format(val))\n",
    "        \n"
   ]
  },
  {
   "cell_type": "markdown",
   "metadata": {},
   "source": [
    "# SPI 7-segment LEDs"
   ]
  },
  {
   "cell_type": "markdown",
   "metadata": {},
   "source": [
    "In bash, we can turn on the 7-segment LEDs buy typing:\n",
    "```\n",
    "echo -ne '\\x40\\x01\\x02' | sudo tee /dev/spidev2.1 | xxd\n",
    "```\n",
    "or, because this jupyter is running as root:"
   ]
  },
  {
   "cell_type": "code",
   "execution_count": null,
   "metadata": {},
   "outputs": [],
   "source": [
    "import binascii\n",
    "hexstr = '400102'\n",
    "binstr = binascii.unhexlify(hexstr)\n",
    "!echo $binstr >> /dev/spidev2.1"
   ]
  },
  {
   "cell_type": "markdown",
   "metadata": {},
   "source": [
    "In python, we can do the following:"
   ]
  },
  {
   "cell_type": "code",
   "execution_count": null,
   "metadata": {},
   "outputs": [],
   "source": [
    "import binascii\n",
    "hexstr = '400000'\n",
    "binstr = binascii.unhexlify(hexstr)\n",
    "\n",
    "with open('/dev/spidev2.1','wb') as f:\n",
    "    f.write(binstr)"
   ]
  },
  {
   "cell_type": "markdown",
   "metadata": {},
   "source": [
    "Now let's try and figure out how that hex string translates into the pattern on the LED display:"
   ]
  },
  {
   "cell_type": "code",
   "execution_count": null,
   "metadata": {},
   "outputs": [],
   "source": [
    "hexstr = '4000FF'\n",
    "binstr = binascii.unhexlify(hexstr)\n",
    "\n",
    "with open('/dev/spidev2.1','wb') as f:\n",
    "    f.write(binstr)"
   ]
  },
  {
   "cell_type": "code",
   "execution_count": null,
   "metadata": {},
   "outputs": [],
   "source": [
    "import time\n",
    "\n",
    "reg = 4 << 20\n",
    "left = 0\n",
    "right = 1 << 8\n",
    "for i in range(0,7):\n",
    "    value = reg + i + left\n",
    "    hexstr = \"{:X}\".format(value)\n",
    "    print(hexstr)\n",
    "    binstr = binascii.unhexlify(hexstr)\n",
    "\n",
    "    with open('/dev/spidev2.1','wb') as f:\n",
    "        f.write(binstr)\n",
    "    time.sleep(.2)"
   ]
  },
  {
   "cell_type": "markdown",
   "metadata": {},
   "source": [
    "Let's make some code which makes the lights go around in a circle\n"
   ]
  },
  {
   "cell_type": "code",
   "execution_count": null,
   "metadata": {},
   "outputs": [],
   "source": [
    "delay = 0.05\n",
    "num_loops = 10\n",
    "\n",
    "def led(side,state):\n",
    "    # Change the state of the 7-segment LEDs on the BaconBits cape\n",
    "    \n",
    "    if state == 'off':\n",
    "        state = 127\n",
    "    if state == 'on':\n",
    "        state = 0\n",
    "    \n",
    "    reg = 4 << 20\n",
    "    value = reg + (side << 8) + state\n",
    "    hexstr = \"{:X}\".format(value)\n",
    "    binstr = binascii.unhexlify(hexstr) \n",
    "    with open('/dev/spidev2.1','wb') as f:\n",
    "        f.write(binstr)\n",
    "\n",
    "for i in range(num_loops):\n",
    "    for k in range(6):\n",
    "        led(0,127-2**k)\n",
    "        led(1,127-2**k)\n",
    "        time.sleep(delay)\n",
    "        \n",
    "led(0,'off')\n",
    "led(1,'off')"
   ]
  },
  {
   "cell_type": "code",
   "execution_count": null,
   "metadata": {},
   "outputs": [],
   "source": [
    "led(0,'off')"
   ]
  },
  {
   "cell_type": "markdown",
   "metadata": {},
   "source": [
    "Now let's see if we can get the lights to spin in opposite directions:"
   ]
  },
  {
   "cell_type": "code",
   "execution_count": null,
   "metadata": {},
   "outputs": [],
   "source": [
    "for i in range(num_loops):\n",
    "    for k in range(6):\n",
    "        led(0,127-2**k)\n",
    "        led(1,127-2**(5-k))\n",
    "        time.sleep(delay)\n",
    "led(0,'off')\n",
    "led(1,'off')"
   ]
  },
  {
   "cell_type": "markdown",
   "metadata": {},
   "source": [
    "Now let's get an interactive plot happening.\n",
    "\n",
    "The BaconBits Rev.1 image comes from https://oshpark.com/profiles/mwelling."
   ]
  },
  {
   "cell_type": "code",
   "execution_count": null,
   "metadata": {},
   "outputs": [],
   "source": [
    "import numpy as np\n",
    "from bokeh.plotting import figure, show\n",
    "from bokeh.io import output_notebook\n",
    "output_notebook()\n",
    "\n",
    "p = figure(x_range=(0,1086), y_range=(0,692),width=1086/2,height=692/2)\n",
    "#p = figure()\n",
    "p.image_url(url=['BaconBits.png'], x=0, y=692,w=1086,h=692,angle=0)\n",
    "leds = []\n",
    "\n",
    "leds.append(p.rect(x=[480],y=[434],width=20,height=40,color='yellow')) # 0\n",
    "leds.append(p.rect(x=[504],y=[473],width=40,height=20,color='yellow')) # 1\n",
    "leds.append(p.rect(x=[565],y=[473],width=40,height=20,color='yellow')) # 2\n",
    "leds.append(p.rect(x=[591],y=[434],width=20,height=40,color='yellow')) # 3\n",
    "leds.append(p.rect(x=[504],y=[388],width=40,height=20,color='yellow')) # 4\n",
    "leds.append(p.rect(x=[565],y=[388],width=40,height=20,color='yellow')) # 5\n",
    "leds.append(p.rect(x=[536],y=[434],width=20,height=40,color='yellow')) # 6\n",
    "\n",
    "diff = 494-324\n",
    "leds.append(p.rect(x=[480],y=[434-diff],width=20,height=40,color='yellow')) # 0\n",
    "leds.append(p.rect(x=[504],y=[473-diff],width=40,height=20,color='yellow')) # 1\n",
    "leds.append(p.rect(x=[565],y=[473-diff],width=40,height=20,color='yellow')) # 2\n",
    "leds.append(p.rect(x=[591],y=[434-diff],width=20,height=40,color='yellow')) # 3\n",
    "leds.append(p.rect(x=[504],y=[388-diff],width=40,height=20,color='yellow')) # 4\n",
    "leds.append(p.rect(x=[565],y=[388-diff],width=40,height=20,color='yellow')) # 5\n",
    "leds.append(p.rect(x=[536],y=[434-diff],width=20,height=40,color='yellow')) # 6\n",
    "\n",
    "show(p)"
   ]
  },
  {
   "cell_type": "code",
   "execution_count": null,
   "metadata": {},
   "outputs": [],
   "source": []
  }
 ],
 "metadata": {
  "kernelspec": {
   "display_name": "Python 2",
   "language": "python",
   "name": "python2"
  },
  "language_info": {
   "codemirror_mode": {
    "name": "ipython",
    "version": 2
   },
   "file_extension": ".py",
   "mimetype": "text/x-python",
   "name": "python",
   "nbconvert_exporter": "python",
   "pygments_lexer": "ipython2",
   "version": "2.7.13"
  }
 },
 "nbformat": 4,
 "nbformat_minor": 2
}
