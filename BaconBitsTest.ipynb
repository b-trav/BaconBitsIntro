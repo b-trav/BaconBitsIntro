{
 "cells": [
  {
   "cell_type": "markdown",
   "metadata": {},
   "source": [
    "This is a notebook that I have created to test the various features of the BaconBits cape.\n",
    "\n",
    "I received the PocketBeagle when I enrolled in the [e-ale course](https://e-ale.org/) at the 2018 [Embedded Linux Conference](https://events.linuxfoundation.org/events/elc-openiot-north-america-2018/).\n",
    "\n",
    "The resources for this course at contained on [github](https://github.com/e-ale).\n",
    "\n",
    "The code that I am using to initially test the features of the BaconBits cape is located [here](https://github.com/e-ale/Code/tree/master/RESOURCES/pocketbeagle)."
   ]
  },
  {
   "cell_type": "markdown",
   "metadata": {},
   "source": [
    "## Wifi setup"
   ]
  },
  {
   "cell_type": "markdown",
   "metadata": {},
   "source": [
    "In order to easily use this notebook, I first need to get the PocketBeagle hooked up to the internet.\n",
    "\n",
    "To do this, on my laptop, I type:\n",
    "```\n",
    "sudo su\n",
    "iptables --table nat --append POSTROUTING --out-interface wlp3s0 -j MASQUERADE\n",
    "iptables --append FORWARD --in-interface enx38d269566e5d -j ACCEPT\n",
    "echo 1 > /proc/sys/net/ipv4/ip_forward\n",
    "exit\n",
    "```\n",
    "and then on the PocketBeagle I type:\n",
    "```\n",
    "sudo ip route add default via 192.168.7.1\n",
    "echo \"nameserver 8.8.8.8\" | sudo tee /etc/resolv.conf\n",
    "```\n",
    "\n",
    "I would like to not have to run the above commands after every reboot of the PocketBeagle, but at the moment, I don't know had to do that.\n",
    "\n",
    "I can get around the resolv.conf issue by disabling connman:\n",
    "```\n",
    "sudo systemctl disable connman.service\n",
    "```\n",
    "but can not figure out how to get the default gateway working on boot, despite having configure `/etc/network/interfaces` to:\n",
    "```\n",
    "iface usb0 inet static\n",
    "    address 192.168.7.2\n",
    "    netmask 255.255.255.0\n",
    "    gateway 192.168.7.1\n",
    "    dns-nameservers 8.8.8.8\n",
    "```\n",
    "\n",
    "I then cloned the git repository using:\n",
    "```\n",
    "git clone https://github.com/b-trav/BaconBitsIntro.git\n",
    "```\n",
    "\n",
    "Initially when I set up git I did these commands to set my username, email, and to allow me to push without typing my github password:\n",
    "```\n",
    "git config --global user.name \"Ben Travaglione\"\n",
    "git config --global user.email \"ben@travaglione.com\"\n",
    "git config --global credential.helper store\n",
    "```"
   ]
  },
  {
   "cell_type": "markdown",
   "metadata": {},
   "source": [
    "## Jupyter"
   ]
  },
  {
   "cell_type": "markdown",
   "metadata": {},
   "source": [
    "Evidently, I am writing this notebook in Jupyter, and the notebook is designed to be run on the PocketBeagle, thus you need to get Jupyter up and running on the PocketBeagle.\n",
    "\n",
    "This is accomplished with the following commands:\n",
    "\n",
    "```\n",
    "sudo -H pip install --upgrade pip\n",
    "sudo -H pip install jupyter\n",
    "jupyter notebook --generate-config\n",
    "```\n",
    "I then allow external access to the notebook server by editing the jupyter config file:\n",
    "```\n",
    "vim .jupyter/jupyter_notebook_config.py\n",
    "```\n",
    "and uncommenting\n",
    "```\n",
    "c.NotebookApp.ip = '*'\n",
    "```\n",
    "and\n",
    "```\n",
    "c.NotebookApp.allow_root = True\n",
    "```\n",
    "\n",
    "I also need to add password access to the notebook server:\n",
    "```\n",
    "jupyter notebook password\n",
    "```\n",
    "I allow jupyter to boot as root at startup by adding:\n",
    "```\n",
    "@reboot /usr/bin/python /usr/local/bin/jupyter-notebook --config /home/debian/.jupyter/jupyter_notebook_config.py --notebook-dir /home/debian/\n",
    "```\n",
    "to my crontab by typing\n",
    "```\n",
    "sudo crontab -e\n",
    "```\n",
    "\n",
    "These days I find Jupyter annoying to use without installing extensions, so these are the commands to install some Jupyter extensions:\n",
    "```\n",
    "sudo apt install python-dev libxml2-dev libxslt1-dev zlib1g-dev\n",
    "sudo -H pip install jupyter_contrib_nbextensions # This command is not working!\n",
    "```\n",
    "At the moment I can not install the extensions. For some reason libxml is not compiling.\n",
    "```\n",
    "jupyter contrib nbextension install --user\n",
    "jupyter nbextension enable codefolding/main\n",
    "jupyter nbextension enable freeze/main\n",
    "jupyter nbextension enable spellchecker/main\n",
    "jupyter nbextension enable toggle_all_line_numbers/main\n",
    "jupyter nbextension enable collapsible_headings/main\n",
    "jupyter nbextension enable init_cell/main\n",
    "jupyter nbextension enable scratchpad/main\n",
    "jupyter nbextension enable toc2/main\n",
    "\n",
    "sudo -H pip install jupyter_nbextensions_configurator\n",
    "jupyter nbextensions_configurator enable --user\n",
    "```"
   ]
  },
  {
   "cell_type": "markdown",
   "metadata": {},
   "source": [
    "## Potentiometer"
   ]
  },
  {
   "cell_type": "markdown",
   "metadata": {},
   "source": [
    "Let's look at the potentiometer on the BaconBits.\n",
    "\n",
    "In bash, we can grab the value of the potentiometer very easily:"
   ]
  },
  {
   "cell_type": "code",
   "execution_count": null,
   "metadata": {},
   "outputs": [],
   "source": [
    "f = '/sys/bus/iio/devices/iio\\:device0/in_voltage0_raw'\n",
    "!ls $f\n",
    "!cat $f\n"
   ]
  },
  {
   "cell_type": "markdown",
   "metadata": {},
   "source": [
    "This can be a bit trickier in python because it does not seem to like the filename for some reason:"
   ]
  },
  {
   "cell_type": "code",
   "execution_count": null,
   "metadata": {},
   "outputs": [],
   "source": [
    "with open(f,'r') as pot:\n",
    "    val = pot.readline()\n",
    "    print(val)"
   ]
  },
  {
   "cell_type": "markdown",
   "metadata": {},
   "source": [
    "I can get around this problem by creating a symbolic link:"
   ]
  },
  {
   "cell_type": "code",
   "execution_count": null,
   "metadata": {},
   "outputs": [],
   "source": [
    "!rm potentiometer\n",
    "!ln -s /sys/bus/iio/devices/iio\\:device0/in_voltage0_raw potentiometer"
   ]
  },
  {
   "cell_type": "code",
   "execution_count": null,
   "metadata": {},
   "outputs": [],
   "source": [
    "lnf = 'potentiometer'\n",
    "with open(lnf,'r') as pot:\n",
    "    val = pot.readline()\n",
    "    print(val)"
   ]
  },
  {
   "cell_type": "markdown",
   "metadata": {},
   "source": [
    "But this seems like a bit of a hack!"
   ]
  },
  {
   "cell_type": "markdown",
   "metadata": {},
   "source": [
    "# User Button"
   ]
  },
  {
   "cell_type": "markdown",
   "metadata": {},
   "source": [
    "In bash, we can get the status of the user button with:"
   ]
  },
  {
   "cell_type": "code",
   "execution_count": null,
   "metadata": {},
   "outputs": [],
   "source": [
    "!cat /sys/class/gpio/gpio45/value"
   ]
  },
  {
   "cell_type": "code",
   "execution_count": null,
   "metadata": {},
   "outputs": [],
   "source": [
    "from IPython.display import clear_output\n",
    "\n",
    "button_filename = '/sys/class/gpio/gpio45/value'\n",
    "with open(button_filename,'r') as button_file:\n",
    "    val = button_file.readline()\n",
    "last_val = val\n",
    "print(\"Current User-button value: {} (Interrupt the kernel to quit)\".format(val))\n",
    "while True:\n",
    "    with open(button_filename,'r') as button_file:\n",
    "        val = button_file.readline()\n",
    "    if not (val == last_val):\n",
    "        last_val = val\n",
    "        clear_output()\n",
    "        print(\"Current User-button value: {} (Interrupt the kernel to quit)\".format(val))\n",
    "        \n"
   ]
  },
  {
   "cell_type": "markdown",
   "metadata": {},
   "source": [
    "# SPI 7-segment LEDs"
   ]
  },
  {
   "cell_type": "markdown",
   "metadata": {},
   "source": [
    "In bash, we can turn on the 7-segment LEDs buy typing:\n",
    "```\n",
    "echo -ne '\\x40\\x01\\x02' | sudo tee /dev/spidev2.1 | xxd\n",
    "```\n",
    "or, because this jupyter is running as root:"
   ]
  },
  {
   "cell_type": "code",
   "execution_count": null,
   "metadata": {},
   "outputs": [],
   "source": [
    "import binascii\n",
    "hexstr = '400102'\n",
    "binstr = binascii.unhexlify(hexstr)\n",
    "!echo $binstr >> /dev/spidev2.1"
   ]
  },
  {
   "cell_type": "markdown",
   "metadata": {},
   "source": [
    "In python, we can do the following:"
   ]
  },
  {
   "cell_type": "code",
   "execution_count": null,
   "metadata": {},
   "outputs": [],
   "source": [
    "import binascii\n",
    "hexstr = '400000'\n",
    "binstr = binascii.unhexlify(hexstr)\n",
    "\n",
    "with open('/dev/spidev2.1','wb') as f:\n",
    "    f.write(binstr)"
   ]
  },
  {
   "cell_type": "markdown",
   "metadata": {},
   "source": [
    "Now let's try and figure out how that hex string translates into the pattern on the LED display:"
   ]
  },
  {
   "cell_type": "code",
   "execution_count": null,
   "metadata": {},
   "outputs": [],
   "source": [
    "hexstr = '4000FF'\n",
    "binstr = binascii.unhexlify(hexstr)\n",
    "\n",
    "with open('/dev/spidev2.1','wb') as f:\n",
    "    f.write(binstr)"
   ]
  },
  {
   "cell_type": "code",
   "execution_count": null,
   "metadata": {},
   "outputs": [],
   "source": [
    "import time\n",
    "\n",
    "reg = 4 << 20\n",
    "left = 0\n",
    "right = 1 << 8\n",
    "for i in range(0,7):\n",
    "    value = reg + i + left\n",
    "    hexstr = \"{:X}\".format(value)\n",
    "    print(hexstr)\n",
    "    binstr = binascii.unhexlify(hexstr)\n",
    "\n",
    "    with open('/dev/spidev2.1','wb') as f:\n",
    "        f.write(binstr)\n",
    "    time.sleep(.2)"
   ]
  },
  {
   "cell_type": "markdown",
   "metadata": {},
   "source": [
    "Let's make some code which makes the lights go around in a circle\n"
   ]
  },
  {
   "cell_type": "code",
   "execution_count": 3,
   "metadata": {},
   "outputs": [],
   "source": [
    "import time\n",
    "import binascii\n",
    "\n",
    "delay = 0.05\n",
    "num_loops = 10\n",
    "\n",
    "def led(side,state):\n",
    "    # Change the state of the 7-segment LEDs on the BaconBits cape\n",
    "    \n",
    "    if state == 'off':\n",
    "        state = 127\n",
    "    if state == 'on':\n",
    "        state = 0\n",
    "    \n",
    "    reg = 4 << 20\n",
    "    value = reg + (side << 8) + state\n",
    "    hexstr = \"{:X}\".format(value)\n",
    "    binstr = binascii.unhexlify(hexstr) \n",
    "    with open('/dev/spidev2.1','wb') as f:\n",
    "        f.write(binstr)\n",
    "\n",
    "for i in range(num_loops):\n",
    "    for k in range(6):\n",
    "        led(0,127-2**k)\n",
    "        led(1,127-2**k)\n",
    "        time.sleep(delay)\n",
    "        \n",
    "led(0,'off')\n",
    "led(1,'off')"
   ]
  },
  {
   "cell_type": "code",
   "execution_count": null,
   "metadata": {},
   "outputs": [],
   "source": [
    "led(0,'off')"
   ]
  },
  {
   "cell_type": "markdown",
   "metadata": {},
   "source": [
    "Now let's see if we can get the lights to spin in opposite directions:"
   ]
  },
  {
   "cell_type": "code",
   "execution_count": null,
   "metadata": {},
   "outputs": [],
   "source": [
    "for i in range(num_loops):\n",
    "    for k in range(6):\n",
    "        led(0,127-2**k)\n",
    "        led(1,127-2**(5-k))\n",
    "        time.sleep(delay)\n",
    "led(0,'off')\n",
    "led(1,'off')"
   ]
  },
  {
   "cell_type": "markdown",
   "metadata": {},
   "source": [
    "Now let's get an interactive plot happening.\n",
    "\n",
    "The BaconBits Rev.1 image comes from https://oshpark.com/profiles/mwelling."
   ]
  },
  {
   "cell_type": "code",
   "execution_count": 4,
   "metadata": {},
   "outputs": [
    {
     "data": {
      "text/html": [
       "\n",
       "    <div class=\"bk-root\">\n",
       "        <a href=\"https://bokeh.pydata.org\" target=\"_blank\" class=\"bk-logo bk-logo-small bk-logo-notebook\"></a>\n",
       "        <span id=\"2cd2d084-4874-4705-a260-5ffc3207dec0\">Loading BokehJS ...</span>\n",
       "    </div>"
      ]
     },
     "metadata": {},
     "output_type": "display_data"
    },
    {
     "data": {
      "application/javascript": [
       "\n",
       "(function(root) {\n",
       "  function now() {\n",
       "    return new Date();\n",
       "  }\n",
       "\n",
       "  var force = true;\n",
       "\n",
       "  if (typeof (root._bokeh_onload_callbacks) === \"undefined\" || force === true) {\n",
       "    root._bokeh_onload_callbacks = [];\n",
       "    root._bokeh_is_loading = undefined;\n",
       "  }\n",
       "\n",
       "  var JS_MIME_TYPE = 'application/javascript';\n",
       "  var HTML_MIME_TYPE = 'text/html';\n",
       "  var EXEC_MIME_TYPE = 'application/vnd.bokehjs_exec.v0+json';\n",
       "  var CLASS_NAME = 'output_bokeh rendered_html';\n",
       "\n",
       "  /**\n",
       "   * Render data to the DOM node\n",
       "   */\n",
       "  function render(props, node) {\n",
       "    var script = document.createElement(\"script\");\n",
       "    node.appendChild(script);\n",
       "  }\n",
       "\n",
       "  /**\n",
       "   * Handle when an output is cleared or removed\n",
       "   */\n",
       "  function handleClearOutput(event, handle) {\n",
       "    var cell = handle.cell;\n",
       "\n",
       "    var id = cell.output_area._bokeh_element_id;\n",
       "    var server_id = cell.output_area._bokeh_server_id;\n",
       "    // Clean up Bokeh references\n",
       "    if (id !== undefined) {\n",
       "      Bokeh.index[id].model.document.clear();\n",
       "      delete Bokeh.index[id];\n",
       "    }\n",
       "\n",
       "    if (server_id !== undefined) {\n",
       "      // Clean up Bokeh references\n",
       "      var cmd = \"from bokeh.io.state import curstate; print(curstate().uuid_to_server['\" + server_id + \"'].get_sessions()[0].document.roots[0]._id)\";\n",
       "      cell.notebook.kernel.execute(cmd, {\n",
       "        iopub: {\n",
       "          output: function(msg) {\n",
       "            var element_id = msg.content.text.trim();\n",
       "            Bokeh.index[element_id].model.document.clear();\n",
       "            delete Bokeh.index[element_id];\n",
       "          }\n",
       "        }\n",
       "      });\n",
       "      // Destroy server and session\n",
       "      var cmd = \"import bokeh.io.notebook as ion; ion.destroy_server('\" + server_id + \"')\";\n",
       "      cell.notebook.kernel.execute(cmd);\n",
       "    }\n",
       "  }\n",
       "\n",
       "  /**\n",
       "   * Handle when a new output is added\n",
       "   */\n",
       "  function handleAddOutput(event, handle) {\n",
       "    var output_area = handle.output_area;\n",
       "    var output = handle.output;\n",
       "\n",
       "    // limit handleAddOutput to display_data with EXEC_MIME_TYPE content only\n",
       "    if ((output.output_type != \"display_data\") || (!output.data.hasOwnProperty(EXEC_MIME_TYPE))) {\n",
       "      return\n",
       "    }\n",
       "\n",
       "    var toinsert = output_area.element.find(\".\" + CLASS_NAME.split(' ')[0]);\n",
       "\n",
       "    if (output.metadata[EXEC_MIME_TYPE][\"id\"] !== undefined) {\n",
       "      toinsert[toinsert.length - 1].firstChild.textContent = output.data[JS_MIME_TYPE];\n",
       "      // store reference to embed id on output_area\n",
       "      output_area._bokeh_element_id = output.metadata[EXEC_MIME_TYPE][\"id\"];\n",
       "    }\n",
       "    if (output.metadata[EXEC_MIME_TYPE][\"server_id\"] !== undefined) {\n",
       "      var bk_div = document.createElement(\"div\");\n",
       "      bk_div.innerHTML = output.data[HTML_MIME_TYPE];\n",
       "      var script_attrs = bk_div.children[0].attributes;\n",
       "      for (var i = 0; i < script_attrs.length; i++) {\n",
       "        toinsert[toinsert.length - 1].firstChild.setAttribute(script_attrs[i].name, script_attrs[i].value);\n",
       "      }\n",
       "      // store reference to server id on output_area\n",
       "      output_area._bokeh_server_id = output.metadata[EXEC_MIME_TYPE][\"server_id\"];\n",
       "    }\n",
       "  }\n",
       "\n",
       "  function register_renderer(events, OutputArea) {\n",
       "\n",
       "    function append_mime(data, metadata, element) {\n",
       "      // create a DOM node to render to\n",
       "      var toinsert = this.create_output_subarea(\n",
       "        metadata,\n",
       "        CLASS_NAME,\n",
       "        EXEC_MIME_TYPE\n",
       "      );\n",
       "      this.keyboard_manager.register_events(toinsert);\n",
       "      // Render to node\n",
       "      var props = {data: data, metadata: metadata[EXEC_MIME_TYPE]};\n",
       "      render(props, toinsert[toinsert.length - 1]);\n",
       "      element.append(toinsert);\n",
       "      return toinsert\n",
       "    }\n",
       "\n",
       "    /* Handle when an output is cleared or removed */\n",
       "    events.on('clear_output.CodeCell', handleClearOutput);\n",
       "    events.on('delete.Cell', handleClearOutput);\n",
       "\n",
       "    /* Handle when a new output is added */\n",
       "    events.on('output_added.OutputArea', handleAddOutput);\n",
       "\n",
       "    /**\n",
       "     * Register the mime type and append_mime function with output_area\n",
       "     */\n",
       "    OutputArea.prototype.register_mime_type(EXEC_MIME_TYPE, append_mime, {\n",
       "      /* Is output safe? */\n",
       "      safe: true,\n",
       "      /* Index of renderer in `output_area.display_order` */\n",
       "      index: 0\n",
       "    });\n",
       "  }\n",
       "\n",
       "  // register the mime type if in Jupyter Notebook environment and previously unregistered\n",
       "  if (root.Jupyter !== undefined) {\n",
       "    var events = require('base/js/events');\n",
       "    var OutputArea = require('notebook/js/outputarea').OutputArea;\n",
       "\n",
       "    if (OutputArea.prototype.mime_types().indexOf(EXEC_MIME_TYPE) == -1) {\n",
       "      register_renderer(events, OutputArea);\n",
       "    }\n",
       "  }\n",
       "\n",
       "  \n",
       "  if (typeof (root._bokeh_timeout) === \"undefined\" || force === true) {\n",
       "    root._bokeh_timeout = Date.now() + 5000;\n",
       "    root._bokeh_failed_load = false;\n",
       "  }\n",
       "\n",
       "  var NB_LOAD_WARNING = {'data': {'text/html':\n",
       "     \"<div style='background-color: #fdd'>\\n\"+\n",
       "     \"<p>\\n\"+\n",
       "     \"BokehJS does not appear to have successfully loaded. If loading BokehJS from CDN, this \\n\"+\n",
       "     \"may be due to a slow or bad network connection. Possible fixes:\\n\"+\n",
       "     \"</p>\\n\"+\n",
       "     \"<ul>\\n\"+\n",
       "     \"<li>re-rerun `output_notebook()` to attempt to load from CDN again, or</li>\\n\"+\n",
       "     \"<li>use INLINE resources instead, as so:</li>\\n\"+\n",
       "     \"</ul>\\n\"+\n",
       "     \"<code>\\n\"+\n",
       "     \"from bokeh.resources import INLINE\\n\"+\n",
       "     \"output_notebook(resources=INLINE)\\n\"+\n",
       "     \"</code>\\n\"+\n",
       "     \"</div>\"}};\n",
       "\n",
       "  function display_loaded() {\n",
       "    var el = document.getElementById(\"2cd2d084-4874-4705-a260-5ffc3207dec0\");\n",
       "    if (el != null) {\n",
       "      el.textContent = \"BokehJS is loading...\";\n",
       "    }\n",
       "    if (root.Bokeh !== undefined) {\n",
       "      if (el != null) {\n",
       "        el.textContent = \"BokehJS \" + root.Bokeh.version + \" successfully loaded.\";\n",
       "      }\n",
       "    } else if (Date.now() < root._bokeh_timeout) {\n",
       "      setTimeout(display_loaded, 100)\n",
       "    }\n",
       "  }\n",
       "\n",
       "\n",
       "  function run_callbacks() {\n",
       "    try {\n",
       "      root._bokeh_onload_callbacks.forEach(function(callback) { callback() });\n",
       "    }\n",
       "    finally {\n",
       "      delete root._bokeh_onload_callbacks\n",
       "    }\n",
       "    console.info(\"Bokeh: all callbacks have finished\");\n",
       "  }\n",
       "\n",
       "  function load_libs(js_urls, callback) {\n",
       "    root._bokeh_onload_callbacks.push(callback);\n",
       "    if (root._bokeh_is_loading > 0) {\n",
       "      console.log(\"Bokeh: BokehJS is being loaded, scheduling callback at\", now());\n",
       "      return null;\n",
       "    }\n",
       "    if (js_urls == null || js_urls.length === 0) {\n",
       "      run_callbacks();\n",
       "      return null;\n",
       "    }\n",
       "    console.log(\"Bokeh: BokehJS not loaded, scheduling load and callback at\", now());\n",
       "    root._bokeh_is_loading = js_urls.length;\n",
       "    for (var i = 0; i < js_urls.length; i++) {\n",
       "      var url = js_urls[i];\n",
       "      var s = document.createElement('script');\n",
       "      s.src = url;\n",
       "      s.async = false;\n",
       "      s.onreadystatechange = s.onload = function() {\n",
       "        root._bokeh_is_loading--;\n",
       "        if (root._bokeh_is_loading === 0) {\n",
       "          console.log(\"Bokeh: all BokehJS libraries loaded\");\n",
       "          run_callbacks()\n",
       "        }\n",
       "      };\n",
       "      s.onerror = function() {\n",
       "        console.warn(\"failed to load library \" + url);\n",
       "      };\n",
       "      console.log(\"Bokeh: injecting script tag for BokehJS library: \", url);\n",
       "      document.getElementsByTagName(\"head\")[0].appendChild(s);\n",
       "    }\n",
       "  };var element = document.getElementById(\"2cd2d084-4874-4705-a260-5ffc3207dec0\");\n",
       "  if (element == null) {\n",
       "    console.log(\"Bokeh: ERROR: autoload.js configured with elementid '2cd2d084-4874-4705-a260-5ffc3207dec0' but no matching script tag was found. \")\n",
       "    return false;\n",
       "  }\n",
       "\n",
       "  var js_urls = [\"https://cdn.pydata.org/bokeh/release/bokeh-0.12.15.min.js\", \"https://cdn.pydata.org/bokeh/release/bokeh-widgets-0.12.15.min.js\", \"https://cdn.pydata.org/bokeh/release/bokeh-tables-0.12.15.min.js\", \"https://cdn.pydata.org/bokeh/release/bokeh-gl-0.12.15.min.js\"];\n",
       "\n",
       "  var inline_js = [\n",
       "    function(Bokeh) {\n",
       "      Bokeh.set_log_level(\"info\");\n",
       "    },\n",
       "    \n",
       "    function(Bokeh) {\n",
       "      \n",
       "    },\n",
       "    function(Bokeh) {\n",
       "      console.log(\"Bokeh: injecting CSS: https://cdn.pydata.org/bokeh/release/bokeh-0.12.15.min.css\");\n",
       "      Bokeh.embed.inject_css(\"https://cdn.pydata.org/bokeh/release/bokeh-0.12.15.min.css\");\n",
       "      console.log(\"Bokeh: injecting CSS: https://cdn.pydata.org/bokeh/release/bokeh-widgets-0.12.15.min.css\");\n",
       "      Bokeh.embed.inject_css(\"https://cdn.pydata.org/bokeh/release/bokeh-widgets-0.12.15.min.css\");\n",
       "      console.log(\"Bokeh: injecting CSS: https://cdn.pydata.org/bokeh/release/bokeh-tables-0.12.15.min.css\");\n",
       "      Bokeh.embed.inject_css(\"https://cdn.pydata.org/bokeh/release/bokeh-tables-0.12.15.min.css\");\n",
       "    }\n",
       "  ];\n",
       "\n",
       "  function run_inline_js() {\n",
       "    \n",
       "    if ((root.Bokeh !== undefined) || (force === true)) {\n",
       "      for (var i = 0; i < inline_js.length; i++) {\n",
       "        inline_js[i].call(root, root.Bokeh);\n",
       "      }if (force === true) {\n",
       "        display_loaded();\n",
       "      }} else if (Date.now() < root._bokeh_timeout) {\n",
       "      setTimeout(run_inline_js, 100);\n",
       "    } else if (!root._bokeh_failed_load) {\n",
       "      console.log(\"Bokeh: BokehJS failed to load within specified timeout.\");\n",
       "      root._bokeh_failed_load = true;\n",
       "    } else if (force !== true) {\n",
       "      var cell = $(document.getElementById(\"2cd2d084-4874-4705-a260-5ffc3207dec0\")).parents('.cell').data().cell;\n",
       "      cell.output_area.append_execute_result(NB_LOAD_WARNING)\n",
       "    }\n",
       "\n",
       "  }\n",
       "\n",
       "  if (root._bokeh_is_loading === 0) {\n",
       "    console.log(\"Bokeh: BokehJS loaded, going straight to plotting\");\n",
       "    run_inline_js();\n",
       "  } else {\n",
       "    load_libs(js_urls, function() {\n",
       "      console.log(\"Bokeh: BokehJS plotting callback run at\", now());\n",
       "      run_inline_js();\n",
       "    });\n",
       "  }\n",
       "}(window));"
      ],
      "application/vnd.bokehjs_load.v0+json": "\n(function(root) {\n  function now() {\n    return new Date();\n  }\n\n  var force = true;\n\n  if (typeof (root._bokeh_onload_callbacks) === \"undefined\" || force === true) {\n    root._bokeh_onload_callbacks = [];\n    root._bokeh_is_loading = undefined;\n  }\n\n  \n\n  \n  if (typeof (root._bokeh_timeout) === \"undefined\" || force === true) {\n    root._bokeh_timeout = Date.now() + 5000;\n    root._bokeh_failed_load = false;\n  }\n\n  var NB_LOAD_WARNING = {'data': {'text/html':\n     \"<div style='background-color: #fdd'>\\n\"+\n     \"<p>\\n\"+\n     \"BokehJS does not appear to have successfully loaded. If loading BokehJS from CDN, this \\n\"+\n     \"may be due to a slow or bad network connection. Possible fixes:\\n\"+\n     \"</p>\\n\"+\n     \"<ul>\\n\"+\n     \"<li>re-rerun `output_notebook()` to attempt to load from CDN again, or</li>\\n\"+\n     \"<li>use INLINE resources instead, as so:</li>\\n\"+\n     \"</ul>\\n\"+\n     \"<code>\\n\"+\n     \"from bokeh.resources import INLINE\\n\"+\n     \"output_notebook(resources=INLINE)\\n\"+\n     \"</code>\\n\"+\n     \"</div>\"}};\n\n  function display_loaded() {\n    var el = document.getElementById(\"2cd2d084-4874-4705-a260-5ffc3207dec0\");\n    if (el != null) {\n      el.textContent = \"BokehJS is loading...\";\n    }\n    if (root.Bokeh !== undefined) {\n      if (el != null) {\n        el.textContent = \"BokehJS \" + root.Bokeh.version + \" successfully loaded.\";\n      }\n    } else if (Date.now() < root._bokeh_timeout) {\n      setTimeout(display_loaded, 100)\n    }\n  }\n\n\n  function run_callbacks() {\n    try {\n      root._bokeh_onload_callbacks.forEach(function(callback) { callback() });\n    }\n    finally {\n      delete root._bokeh_onload_callbacks\n    }\n    console.info(\"Bokeh: all callbacks have finished\");\n  }\n\n  function load_libs(js_urls, callback) {\n    root._bokeh_onload_callbacks.push(callback);\n    if (root._bokeh_is_loading > 0) {\n      console.log(\"Bokeh: BokehJS is being loaded, scheduling callback at\", now());\n      return null;\n    }\n    if (js_urls == null || js_urls.length === 0) {\n      run_callbacks();\n      return null;\n    }\n    console.log(\"Bokeh: BokehJS not loaded, scheduling load and callback at\", now());\n    root._bokeh_is_loading = js_urls.length;\n    for (var i = 0; i < js_urls.length; i++) {\n      var url = js_urls[i];\n      var s = document.createElement('script');\n      s.src = url;\n      s.async = false;\n      s.onreadystatechange = s.onload = function() {\n        root._bokeh_is_loading--;\n        if (root._bokeh_is_loading === 0) {\n          console.log(\"Bokeh: all BokehJS libraries loaded\");\n          run_callbacks()\n        }\n      };\n      s.onerror = function() {\n        console.warn(\"failed to load library \" + url);\n      };\n      console.log(\"Bokeh: injecting script tag for BokehJS library: \", url);\n      document.getElementsByTagName(\"head\")[0].appendChild(s);\n    }\n  };var element = document.getElementById(\"2cd2d084-4874-4705-a260-5ffc3207dec0\");\n  if (element == null) {\n    console.log(\"Bokeh: ERROR: autoload.js configured with elementid '2cd2d084-4874-4705-a260-5ffc3207dec0' but no matching script tag was found. \")\n    return false;\n  }\n\n  var js_urls = [\"https://cdn.pydata.org/bokeh/release/bokeh-0.12.15.min.js\", \"https://cdn.pydata.org/bokeh/release/bokeh-widgets-0.12.15.min.js\", \"https://cdn.pydata.org/bokeh/release/bokeh-tables-0.12.15.min.js\", \"https://cdn.pydata.org/bokeh/release/bokeh-gl-0.12.15.min.js\"];\n\n  var inline_js = [\n    function(Bokeh) {\n      Bokeh.set_log_level(\"info\");\n    },\n    \n    function(Bokeh) {\n      \n    },\n    function(Bokeh) {\n      console.log(\"Bokeh: injecting CSS: https://cdn.pydata.org/bokeh/release/bokeh-0.12.15.min.css\");\n      Bokeh.embed.inject_css(\"https://cdn.pydata.org/bokeh/release/bokeh-0.12.15.min.css\");\n      console.log(\"Bokeh: injecting CSS: https://cdn.pydata.org/bokeh/release/bokeh-widgets-0.12.15.min.css\");\n      Bokeh.embed.inject_css(\"https://cdn.pydata.org/bokeh/release/bokeh-widgets-0.12.15.min.css\");\n      console.log(\"Bokeh: injecting CSS: https://cdn.pydata.org/bokeh/release/bokeh-tables-0.12.15.min.css\");\n      Bokeh.embed.inject_css(\"https://cdn.pydata.org/bokeh/release/bokeh-tables-0.12.15.min.css\");\n    }\n  ];\n\n  function run_inline_js() {\n    \n    if ((root.Bokeh !== undefined) || (force === true)) {\n      for (var i = 0; i < inline_js.length; i++) {\n        inline_js[i].call(root, root.Bokeh);\n      }if (force === true) {\n        display_loaded();\n      }} else if (Date.now() < root._bokeh_timeout) {\n      setTimeout(run_inline_js, 100);\n    } else if (!root._bokeh_failed_load) {\n      console.log(\"Bokeh: BokehJS failed to load within specified timeout.\");\n      root._bokeh_failed_load = true;\n    } else if (force !== true) {\n      var cell = $(document.getElementById(\"2cd2d084-4874-4705-a260-5ffc3207dec0\")).parents('.cell').data().cell;\n      cell.output_area.append_execute_result(NB_LOAD_WARNING)\n    }\n\n  }\n\n  if (root._bokeh_is_loading === 0) {\n    console.log(\"Bokeh: BokehJS loaded, going straight to plotting\");\n    run_inline_js();\n  } else {\n    load_libs(js_urls, function() {\n      console.log(\"Bokeh: BokehJS plotting callback run at\", now());\n      run_inline_js();\n    });\n  }\n}(window));"
     },
     "metadata": {},
     "output_type": "display_data"
    },
    {
     "data": {
      "text/html": [
       "\n",
       "<div class=\"bk-root\">\n",
       "    <div class=\"bk-plotdiv\" id=\"6c029bfc-6448-4abf-89ec-843c793068f6\"></div>\n",
       "</div>"
      ]
     },
     "metadata": {},
     "output_type": "display_data"
    },
    {
     "data": {
      "application/javascript": [
       "(function(root) {\n",
       "  function embed_document(root) {\n",
       "    \n",
       "  var docs_json = {\"dbfe277a-263e-465c-8886-0b51947ca7e6\":{\"roots\":{\"references\":[{\"attributes\":{\"data_source\":{\"id\":\"9899dde2-13f5-4314-b21c-4aab678737d6\",\"type\":\"ColumnDataSource\"},\"glyph\":{\"id\":\"5aaeff30-710b-4a94-a452-10ff3d8a7b71\",\"type\":\"Rect\"},\"hover_glyph\":null,\"muted_glyph\":null,\"nonselection_glyph\":{\"id\":\"d899802a-fe04-493e-a2be-dbc0c061234f\",\"type\":\"Rect\"},\"selection_glyph\":null,\"view\":{\"id\":\"1cef1ff8-9005-479e-9c71-0229b6bd0cc4\",\"type\":\"CDSView\"}},\"id\":\"d2943752-90a3-48be-934f-cd438419a370\",\"type\":\"GlyphRenderer\"},{\"attributes\":{\"callback\":null,\"column_names\":[\"y\",\"x\"],\"data\":{\"x\":[591],\"y\":[264]},\"selected\":null,\"selection_policy\":null},\"id\":\"e6a67d2c-de28-4d86-beec-9e2edfcfa0e2\",\"type\":\"ColumnDataSource\"},{\"attributes\":{\"fill_alpha\":{\"value\":0},\"fill_color\":{\"value\":\"yellow\"},\"height\":{\"units\":\"data\",\"value\":20},\"line_color\":{\"value\":\"yellow\"},\"width\":{\"units\":\"data\",\"value\":40},\"x\":{\"field\":\"x\"},\"y\":{\"field\":\"y\"}},\"id\":\"9611b616-e127-4243-80b2-f0252a57f247\",\"type\":\"Rect\"},{\"attributes\":{},\"id\":\"322c6c35-f3d1-4f59-85a6-74857a9f74ed\",\"type\":\"LinearScale\"},{\"attributes\":{\"callback\":null,\"column_names\":[\"y\",\"x\"],\"data\":{\"x\":[536],\"y\":[434]},\"selected\":null,\"selection_policy\":null},\"id\":\"cb389381-db24-4424-afd2-12d4fb7d9414\",\"type\":\"ColumnDataSource\"},{\"attributes\":{\"callback\":null,\"column_names\":[\"y\",\"x\"],\"data\":{\"x\":[565],\"y\":[303]},\"selected\":null,\"selection_policy\":null},\"id\":\"dc19bf2d-73da-49c9-b144-ef1f036f5def\",\"type\":\"ColumnDataSource\"},{\"attributes\":{\"overlay\":{\"id\":\"87bf0a36-9b4a-4078-8912-c524d2ba2b53\",\"type\":\"BoxAnnotation\"}},\"id\":\"84a4b236-f985-4268-8fa5-6b5da95318ef\",\"type\":\"BoxZoomTool\"},{\"attributes\":{\"bottom_units\":\"screen\",\"fill_alpha\":{\"value\":0.5},\"fill_color\":{\"value\":\"lightgrey\"},\"left_units\":\"screen\",\"level\":\"overlay\",\"line_alpha\":{\"value\":1.0},\"line_color\":{\"value\":\"black\"},\"line_dash\":[4,4],\"line_width\":{\"value\":2},\"plot\":null,\"render_mode\":\"css\",\"right_units\":\"screen\",\"top_units\":\"screen\"},\"id\":\"87bf0a36-9b4a-4078-8912-c524d2ba2b53\",\"type\":\"BoxAnnotation\"},{\"attributes\":{\"fill_alpha\":{\"value\":0.1},\"fill_color\":{\"value\":\"#1f77b4\"},\"height\":{\"units\":\"data\",\"value\":20},\"line_alpha\":{\"value\":0.1},\"line_color\":{\"value\":\"#1f77b4\"},\"width\":{\"units\":\"data\",\"value\":40},\"x\":{\"field\":\"x\"},\"y\":{\"field\":\"y\"}},\"id\":\"03321ba7-fdb7-43e7-8f4b-b6f73d713afe\",\"type\":\"Rect\"},{\"attributes\":{\"callback\":null,\"column_names\":[\"y\",\"x\"],\"data\":{\"x\":[504],\"y\":[303]},\"selected\":null,\"selection_policy\":null},\"id\":\"da9531ee-3ce3-46ec-914c-4dacb24df606\",\"type\":\"ColumnDataSource\"},{\"attributes\":{\"dimension\":1,\"plot\":{\"id\":\"95acd32f-5ce5-47cf-a3d5-2a2cc7a7e679\",\"subtype\":\"Figure\",\"type\":\"Plot\"},\"ticker\":{\"id\":\"b35833d8-7a45-4c5e-8cac-245e76b6fcaa\",\"type\":\"BasicTicker\"}},\"id\":\"5d9f8f4f-88ac-4422-8245-d1e798b993f2\",\"type\":\"Grid\"},{\"attributes\":{\"data_source\":{\"id\":\"8cde67d7-efc7-4220-aabc-42cb94c52a39\",\"type\":\"ColumnDataSource\"},\"glyph\":{\"id\":\"58ac0a83-c0e5-424d-a67e-7dc1fe749e3d\",\"type\":\"Rect\"},\"hover_glyph\":null,\"muted_glyph\":null,\"nonselection_glyph\":{\"id\":\"55a9f56f-eca8-4c8e-9fce-8556626fa744\",\"type\":\"Rect\"},\"selection_glyph\":null,\"view\":{\"id\":\"fee86953-2f34-48c6-96df-64f095de903a\",\"type\":\"CDSView\"}},\"id\":\"115868a5-e863-4072-a1be-f1b076f50ca5\",\"type\":\"GlyphRenderer\"},{\"attributes\":{},\"id\":\"f44069af-317c-447e-a8d9-1bebe115787c\",\"type\":\"BasicTickFormatter\"},{\"attributes\":{\"fill_alpha\":{\"value\":0},\"fill_color\":{\"value\":\"yellow\"},\"height\":{\"units\":\"data\",\"value\":40},\"line_color\":{\"value\":\"yellow\"},\"width\":{\"units\":\"data\",\"value\":20},\"x\":{\"field\":\"x\"},\"y\":{\"field\":\"y\"}},\"id\":\"e8d3eee2-e092-4624-8c30-98831aac1bfe\",\"type\":\"Rect\"},{\"attributes\":{},\"id\":\"d02fa5ad-0001-44ed-b2f4-9a5e608270b4\",\"type\":\"WheelZoomTool\"},{\"attributes\":{\"data_source\":{\"id\":\"8697463f-4928-4f53-940f-93c26a445341\",\"type\":\"ColumnDataSource\"},\"glyph\":{\"id\":\"bdbb5a69-0556-4fec-a6c4-b5e211d5a5c1\",\"type\":\"Rect\"},\"hover_glyph\":null,\"muted_glyph\":null,\"nonselection_glyph\":{\"id\":\"acd9ce50-b8d0-4a69-b4be-24a1b7078ebd\",\"type\":\"Rect\"},\"selection_glyph\":null,\"view\":{\"id\":\"e6384194-63ac-4ec3-87ac-25b908db5e9d\",\"type\":\"CDSView\"}},\"id\":\"148609ad-078b-4b0e-b906-279c29756e45\",\"type\":\"GlyphRenderer\"},{\"attributes\":{\"fill_alpha\":{\"value\":0},\"fill_color\":{\"value\":\"yellow\"},\"height\":{\"units\":\"data\",\"value\":20},\"line_color\":{\"value\":\"yellow\"},\"width\":{\"units\":\"data\",\"value\":40},\"x\":{\"field\":\"x\"},\"y\":{\"field\":\"y\"}},\"id\":\"bdbb5a69-0556-4fec-a6c4-b5e211d5a5c1\",\"type\":\"Rect\"},{\"attributes\":{\"source\":{\"id\":\"da9531ee-3ce3-46ec-914c-4dacb24df606\",\"type\":\"ColumnDataSource\"}},\"id\":\"81b1786c-ded0-4187-aee2-da80e0a58c79\",\"type\":\"CDSView\"},{\"attributes\":{\"callback\":null,\"end\":692},\"id\":\"05046d0b-bcf4-472d-9f91-3440baf9e967\",\"type\":\"Range1d\"},{\"attributes\":{\"fill_alpha\":{\"value\":0.1},\"fill_color\":{\"value\":\"#1f77b4\"},\"height\":{\"units\":\"data\",\"value\":40},\"line_alpha\":{\"value\":0.1},\"line_color\":{\"value\":\"#1f77b4\"},\"width\":{\"units\":\"data\",\"value\":20},\"x\":{\"field\":\"x\"},\"y\":{\"field\":\"y\"}},\"id\":\"2c63962f-acf5-4154-a3db-c093243e1892\",\"type\":\"Rect\"},{\"attributes\":{},\"id\":\"cec5d032-2981-4556-97f4-2943d36267b6\",\"type\":\"BasicTicker\"},{\"attributes\":{},\"id\":\"803c3485-ee49-48cb-b09a-6decfb741d59\",\"type\":\"HelpTool\"},{\"attributes\":{\"formatter\":{\"id\":\"3deaec49-4d47-48b4-ab93-b044b7413d8f\",\"type\":\"BasicTickFormatter\"},\"plot\":{\"id\":\"95acd32f-5ce5-47cf-a3d5-2a2cc7a7e679\",\"subtype\":\"Figure\",\"type\":\"Plot\"},\"ticker\":{\"id\":\"b35833d8-7a45-4c5e-8cac-245e76b6fcaa\",\"type\":\"BasicTicker\"}},\"id\":\"7d7a3846-629f-4b61-b522-80d8043498b1\",\"type\":\"LinearAxis\"},{\"attributes\":{\"h\":{\"units\":\"data\",\"value\":692},\"url\":{\"field\":\"url\"},\"w\":{\"units\":\"data\",\"value\":1086},\"x\":{\"value\":0},\"y\":{\"value\":692}},\"id\":\"a613fe72-dfea-450e-9788-0a9c895f0689\",\"type\":\"ImageURL\"},{\"attributes\":{\"callback\":null,\"column_names\":[\"url\"],\"data\":{\"url\":[\"BaconBits.png\"]},\"selected\":null,\"selection_policy\":null},\"id\":\"e32b2c27-f327-4b48-8a6f-846a130d4cdd\",\"type\":\"ColumnDataSource\"},{\"attributes\":{\"callback\":null,\"column_names\":[\"y\",\"x\"],\"data\":{\"x\":[565],\"y\":[218]},\"selected\":null,\"selection_policy\":null},\"id\":\"e8bb2ab1-7e16-4cd7-80c1-a2eced6ad796\",\"type\":\"ColumnDataSource\"},{\"attributes\":{\"data_source\":{\"id\":\"ecd2a883-8e08-4115-98a1-427dc95264be\",\"type\":\"ColumnDataSource\"},\"glyph\":{\"id\":\"9611b616-e127-4243-80b2-f0252a57f247\",\"type\":\"Rect\"},\"hover_glyph\":null,\"muted_glyph\":null,\"nonselection_glyph\":{\"id\":\"90ee8d38-7ab3-4d28-96bc-5f1e135a2883\",\"type\":\"Rect\"},\"selection_glyph\":null,\"view\":{\"id\":\"d1d3ca3e-684c-4ce9-8762-4bbbd0a9329c\",\"type\":\"CDSView\"}},\"id\":\"6e62083f-9633-4887-a7a8-c02080af17f3\",\"type\":\"GlyphRenderer\"},{\"attributes\":{\"callback\":null,\"column_names\":[\"y\",\"x\"],\"data\":{\"x\":[504],\"y\":[473]},\"selected\":null,\"selection_policy\":null},\"id\":\"ecd2a883-8e08-4115-98a1-427dc95264be\",\"type\":\"ColumnDataSource\"},{\"attributes\":{\"source\":{\"id\":\"ae25243d-f45a-4bb6-9082-8b5e3cc7df3c\",\"type\":\"ColumnDataSource\"}},\"id\":\"dbcdf1dc-89b6-4eaf-a0be-fb29f8131e57\",\"type\":\"CDSView\"},{\"attributes\":{\"below\":[{\"id\":\"70d53941-d0cb-4535-988a-4ed65f82b881\",\"type\":\"LinearAxis\"}],\"left\":[{\"id\":\"7d7a3846-629f-4b61-b522-80d8043498b1\",\"type\":\"LinearAxis\"}],\"plot_height\":346,\"plot_width\":543,\"renderers\":[{\"id\":\"70d53941-d0cb-4535-988a-4ed65f82b881\",\"type\":\"LinearAxis\"},{\"id\":\"2c9c2ed2-baf7-4533-a7ea-99126340f78a\",\"type\":\"Grid\"},{\"id\":\"7d7a3846-629f-4b61-b522-80d8043498b1\",\"type\":\"LinearAxis\"},{\"id\":\"5d9f8f4f-88ac-4422-8245-d1e798b993f2\",\"type\":\"Grid\"},{\"id\":\"87bf0a36-9b4a-4078-8912-c524d2ba2b53\",\"type\":\"BoxAnnotation\"},{\"id\":\"3bc1330c-c29f-4c1d-94a5-e03beccd4fa8\",\"type\":\"GlyphRenderer\"},{\"id\":\"8633fc58-10a7-4bec-a016-af09b40a8b7b\",\"type\":\"GlyphRenderer\"},{\"id\":\"6e62083f-9633-4887-a7a8-c02080af17f3\",\"type\":\"GlyphRenderer\"},{\"id\":\"7fafb789-c92a-4a16-98d0-2c955e18e25c\",\"type\":\"GlyphRenderer\"},{\"id\":\"d2943752-90a3-48be-934f-cd438419a370\",\"type\":\"GlyphRenderer\"},{\"id\":\"148609ad-078b-4b0e-b906-279c29756e45\",\"type\":\"GlyphRenderer\"},{\"id\":\"dbf415ad-0843-40f9-b302-00b5075ef7fe\",\"type\":\"GlyphRenderer\"},{\"id\":\"78a0630f-ac28-42f5-bf02-7679c8fedfb2\",\"type\":\"GlyphRenderer\"},{\"id\":\"e80cb881-e797-480b-9a04-2365baba932a\",\"type\":\"GlyphRenderer\"},{\"id\":\"33599239-907c-457d-88ae-f470326f0e0b\",\"type\":\"GlyphRenderer\"},{\"id\":\"7cb54d7e-7852-4ece-ae96-921e462365d3\",\"type\":\"GlyphRenderer\"},{\"id\":\"57bf1095-e25f-43c3-9eef-6bad989e7b91\",\"type\":\"GlyphRenderer\"},{\"id\":\"38588a35-9765-45bf-a29c-068188d526cc\",\"type\":\"GlyphRenderer\"},{\"id\":\"c85e0b9b-7f53-4fa4-a3c4-a2adde5dfeb1\",\"type\":\"GlyphRenderer\"},{\"id\":\"115868a5-e863-4072-a1be-f1b076f50ca5\",\"type\":\"GlyphRenderer\"}],\"title\":{\"id\":\"cd390cf0-2bea-4f3e-92c3-778b8eca233e\",\"type\":\"Title\"},\"toolbar\":{\"id\":\"251a7e4e-3447-4f3c-84c1-8155bf4674ec\",\"type\":\"Toolbar\"},\"x_range\":{\"id\":\"4d0ad3b4-0b38-4579-929e-549230978952\",\"type\":\"Range1d\"},\"x_scale\":{\"id\":\"a2e18262-ce7d-4d29-96e5-e8c5ffe714af\",\"type\":\"LinearScale\"},\"y_range\":{\"id\":\"05046d0b-bcf4-472d-9f91-3440baf9e967\",\"type\":\"Range1d\"},\"y_scale\":{\"id\":\"322c6c35-f3d1-4f59-85a6-74857a9f74ed\",\"type\":\"LinearScale\"}},\"id\":\"95acd32f-5ce5-47cf-a3d5-2a2cc7a7e679\",\"subtype\":\"Figure\",\"type\":\"Plot\"},{\"attributes\":{\"fill_alpha\":{\"value\":0.1},\"fill_color\":{\"value\":\"#1f77b4\"},\"height\":{\"units\":\"data\",\"value\":20},\"line_alpha\":{\"value\":0.1},\"line_color\":{\"value\":\"#1f77b4\"},\"width\":{\"units\":\"data\",\"value\":40},\"x\":{\"field\":\"x\"},\"y\":{\"field\":\"y\"}},\"id\":\"bb6b482f-24d7-40b4-8690-6d33f891315b\",\"type\":\"Rect\"},{\"attributes\":{\"data_source\":{\"id\":\"eb609fa4-ad67-4843-9ce0-b83a0186befe\",\"type\":\"ColumnDataSource\"},\"glyph\":{\"id\":\"b67a1eea-b60c-4ca6-bb2a-a0f8db4b996d\",\"type\":\"Rect\"},\"hover_glyph\":null,\"muted_glyph\":null,\"nonselection_glyph\":{\"id\":\"a0e82058-e4e6-42c6-86f3-ed9721f6767f\",\"type\":\"Rect\"},\"selection_glyph\":null,\"view\":{\"id\":\"129c0d75-f700-4eb4-8fa7-9723553bff1f\",\"type\":\"CDSView\"}},\"id\":\"38588a35-9765-45bf-a29c-068188d526cc\",\"type\":\"GlyphRenderer\"},{\"attributes\":{\"source\":{\"id\":\"e8bb2ab1-7e16-4cd7-80c1-a2eced6ad796\",\"type\":\"ColumnDataSource\"}},\"id\":\"6e5a7193-f622-4b07-81b7-c5d37d3fc720\",\"type\":\"CDSView\"},{\"attributes\":{\"fill_alpha\":{\"value\":0},\"fill_color\":{\"value\":\"yellow\"},\"height\":{\"units\":\"data\",\"value\":20},\"line_color\":{\"value\":\"yellow\"},\"width\":{\"units\":\"data\",\"value\":40},\"x\":{\"field\":\"x\"},\"y\":{\"field\":\"y\"}},\"id\":\"a364a553-ed2a-4a10-904e-ab1651730b9f\",\"type\":\"Rect\"},{\"attributes\":{\"data_source\":{\"id\":\"7afd9379-8e4d-4a3b-a7d5-cf8e7c3992d1\",\"type\":\"ColumnDataSource\"},\"glyph\":{\"id\":\"aa560f4f-e38d-45e0-8d8d-fb922be35a53\",\"type\":\"Rect\"},\"hover_glyph\":null,\"muted_glyph\":null,\"nonselection_glyph\":{\"id\":\"600d9cba-4b29-415f-a8f2-9578a7d9c385\",\"type\":\"Rect\"},\"selection_glyph\":null,\"view\":{\"id\":\"c4935c3b-cc21-4dfd-b94d-deca42eb35ab\",\"type\":\"CDSView\"}},\"id\":\"7fafb789-c92a-4a16-98d0-2c955e18e25c\",\"type\":\"GlyphRenderer\"},{\"attributes\":{\"source\":{\"id\":\"3d962832-9f41-4581-a913-bd238472ea82\",\"type\":\"ColumnDataSource\"}},\"id\":\"f26276ef-edf0-4c28-8087-78c6039c71be\",\"type\":\"CDSView\"},{\"attributes\":{\"formatter\":{\"id\":\"f44069af-317c-447e-a8d9-1bebe115787c\",\"type\":\"BasicTickFormatter\"},\"plot\":{\"id\":\"95acd32f-5ce5-47cf-a3d5-2a2cc7a7e679\",\"subtype\":\"Figure\",\"type\":\"Plot\"},\"ticker\":{\"id\":\"cec5d032-2981-4556-97f4-2943d36267b6\",\"type\":\"BasicTicker\"}},\"id\":\"70d53941-d0cb-4535-988a-4ed65f82b881\",\"type\":\"LinearAxis\"},{\"attributes\":{\"fill_alpha\":{\"value\":0.1},\"fill_color\":{\"value\":\"#1f77b4\"},\"height\":{\"units\":\"data\",\"value\":40},\"line_alpha\":{\"value\":0.1},\"line_color\":{\"value\":\"#1f77b4\"},\"width\":{\"units\":\"data\",\"value\":20},\"x\":{\"field\":\"x\"},\"y\":{\"field\":\"y\"}},\"id\":\"13ddf1f4-22f7-4f69-b3d1-df6fdbf94ba8\",\"type\":\"Rect\"},{\"attributes\":{\"active_drag\":\"auto\",\"active_inspect\":\"auto\",\"active_scroll\":\"auto\",\"active_tap\":\"auto\",\"tools\":[{\"id\":\"94946aaf-2fb0-4b17-acfb-b859a593f434\",\"type\":\"PanTool\"},{\"id\":\"d02fa5ad-0001-44ed-b2f4-9a5e608270b4\",\"type\":\"WheelZoomTool\"},{\"id\":\"84a4b236-f985-4268-8fa5-6b5da95318ef\",\"type\":\"BoxZoomTool\"},{\"id\":\"4610faf5-ee8f-4455-904a-e740422d95b7\",\"type\":\"SaveTool\"},{\"id\":\"af5edc52-2957-4b20-853f-78d0fe841e52\",\"type\":\"ResetTool\"},{\"id\":\"803c3485-ee49-48cb-b09a-6decfb741d59\",\"type\":\"HelpTool\"}]},\"id\":\"251a7e4e-3447-4f3c-84c1-8155bf4674ec\",\"type\":\"Toolbar\"},{\"attributes\":{\"fill_alpha\":{\"value\":0},\"fill_color\":{\"value\":\"yellow\"},\"height\":{\"units\":\"data\",\"value\":20},\"line_color\":{\"value\":\"yellow\"},\"width\":{\"units\":\"data\",\"value\":40},\"x\":{\"field\":\"x\"},\"y\":{\"field\":\"y\"}},\"id\":\"c34bc9f3-2ec6-4575-ae7f-6e1773ce1fe0\",\"type\":\"Rect\"},{\"attributes\":{\"data_source\":{\"id\":\"e6a67d2c-de28-4d86-beec-9e2edfcfa0e2\",\"type\":\"ColumnDataSource\"},\"glyph\":{\"id\":\"e8d3eee2-e092-4624-8c30-98831aac1bfe\",\"type\":\"Rect\"},\"hover_glyph\":null,\"muted_glyph\":null,\"nonselection_glyph\":{\"id\":\"fa266d51-0a8a-4318-9d9c-2cfedd9e34a7\",\"type\":\"Rect\"},\"selection_glyph\":null,\"view\":{\"id\":\"a5153ad1-9573-4a78-b132-35e34ebbe3b4\",\"type\":\"CDSView\"}},\"id\":\"57bf1095-e25f-43c3-9eef-6bad989e7b91\",\"type\":\"GlyphRenderer\"},{\"attributes\":{\"callback\":null,\"column_names\":[\"y\",\"x\"],\"data\":{\"x\":[504],\"y\":[218]},\"selected\":null,\"selection_policy\":null},\"id\":\"eb609fa4-ad67-4843-9ce0-b83a0186befe\",\"type\":\"ColumnDataSource\"},{\"attributes\":{\"fill_alpha\":{\"value\":0.1},\"fill_color\":{\"value\":\"#1f77b4\"},\"height\":{\"units\":\"data\",\"value\":40},\"line_alpha\":{\"value\":0.1},\"line_color\":{\"value\":\"#1f77b4\"},\"width\":{\"units\":\"data\",\"value\":20},\"x\":{\"field\":\"x\"},\"y\":{\"field\":\"y\"}},\"id\":\"fa266d51-0a8a-4318-9d9c-2cfedd9e34a7\",\"type\":\"Rect\"},{\"attributes\":{\"fill_alpha\":{\"value\":0},\"fill_color\":{\"value\":\"yellow\"},\"height\":{\"units\":\"data\",\"value\":40},\"line_color\":{\"value\":\"yellow\"},\"width\":{\"units\":\"data\",\"value\":20},\"x\":{\"field\":\"x\"},\"y\":{\"field\":\"y\"}},\"id\":\"e1e50783-c173-45f9-b757-747f0a3a62ab\",\"type\":\"Rect\"},{\"attributes\":{\"callback\":null,\"column_names\":[\"y\",\"x\"],\"data\":{\"x\":[536],\"y\":[264]},\"selected\":null,\"selection_policy\":null},\"id\":\"8cde67d7-efc7-4220-aabc-42cb94c52a39\",\"type\":\"ColumnDataSource\"},{\"attributes\":{\"fill_alpha\":{\"value\":0.1},\"fill_color\":{\"value\":\"#1f77b4\"},\"height\":{\"units\":\"data\",\"value\":20},\"line_alpha\":{\"value\":0.1},\"line_color\":{\"value\":\"#1f77b4\"},\"width\":{\"units\":\"data\",\"value\":40},\"x\":{\"field\":\"x\"},\"y\":{\"field\":\"y\"}},\"id\":\"a0e82058-e4e6-42c6-86f3-ed9721f6767f\",\"type\":\"Rect\"},{\"attributes\":{\"fill_alpha\":{\"value\":0.1},\"fill_color\":{\"value\":\"#1f77b4\"},\"height\":{\"units\":\"data\",\"value\":40},\"line_alpha\":{\"value\":0.1},\"line_color\":{\"value\":\"#1f77b4\"},\"width\":{\"units\":\"data\",\"value\":20},\"x\":{\"field\":\"x\"},\"y\":{\"field\":\"y\"}},\"id\":\"55a9f56f-eca8-4c8e-9fce-8556626fa744\",\"type\":\"Rect\"},{\"attributes\":{\"data_source\":{\"id\":\"cb389381-db24-4424-afd2-12d4fb7d9414\",\"type\":\"ColumnDataSource\"},\"glyph\":{\"id\":\"e1e50783-c173-45f9-b757-747f0a3a62ab\",\"type\":\"Rect\"},\"hover_glyph\":null,\"muted_glyph\":null,\"nonselection_glyph\":{\"id\":\"2c63962f-acf5-4154-a3db-c093243e1892\",\"type\":\"Rect\"},\"selection_glyph\":null,\"view\":{\"id\":\"08ef52cc-05d8-4313-a467-1f7bc9760509\",\"type\":\"CDSView\"}},\"id\":\"78a0630f-ac28-42f5-bf02-7679c8fedfb2\",\"type\":\"GlyphRenderer\"},{\"attributes\":{\"fill_alpha\":{\"value\":0.1},\"fill_color\":{\"value\":\"#1f77b4\"},\"height\":{\"units\":\"data\",\"value\":40},\"line_alpha\":{\"value\":0.1},\"line_color\":{\"value\":\"#1f77b4\"},\"width\":{\"units\":\"data\",\"value\":20},\"x\":{\"field\":\"x\"},\"y\":{\"field\":\"y\"}},\"id\":\"d899802a-fe04-493e-a2be-dbc0c061234f\",\"type\":\"Rect\"},{\"attributes\":{\"source\":{\"id\":\"8cde67d7-efc7-4220-aabc-42cb94c52a39\",\"type\":\"ColumnDataSource\"}},\"id\":\"fee86953-2f34-48c6-96df-64f095de903a\",\"type\":\"CDSView\"},{\"attributes\":{\"data_source\":{\"id\":\"ae25243d-f45a-4bb6-9082-8b5e3cc7df3c\",\"type\":\"ColumnDataSource\"},\"glyph\":{\"id\":\"991ecd07-04ae-49c7-b425-6aee2f24f02d\",\"type\":\"Rect\"},\"hover_glyph\":null,\"muted_glyph\":null,\"nonselection_glyph\":{\"id\":\"13ddf1f4-22f7-4f69-b3d1-df6fdbf94ba8\",\"type\":\"Rect\"},\"selection_glyph\":null,\"view\":{\"id\":\"dbcdf1dc-89b6-4eaf-a0be-fb29f8131e57\",\"type\":\"CDSView\"}},\"id\":\"8633fc58-10a7-4bec-a016-af09b40a8b7b\",\"type\":\"GlyphRenderer\"},{\"attributes\":{\"callback\":null,\"column_names\":[\"y\",\"x\"],\"data\":{\"x\":[591],\"y\":[434]},\"selected\":null,\"selection_policy\":null},\"id\":\"9899dde2-13f5-4314-b21c-4aab678737d6\",\"type\":\"ColumnDataSource\"},{\"attributes\":{\"plot\":null,\"text\":\"\"},\"id\":\"cd390cf0-2bea-4f3e-92c3-778b8eca233e\",\"type\":\"Title\"},{\"attributes\":{\"callback\":null,\"end\":1086},\"id\":\"4d0ad3b4-0b38-4579-929e-549230978952\",\"type\":\"Range1d\"},{\"attributes\":{\"fill_alpha\":{\"value\":0},\"fill_color\":{\"value\":\"yellow\"},\"height\":{\"units\":\"data\",\"value\":40},\"line_color\":{\"value\":\"yellow\"},\"width\":{\"units\":\"data\",\"value\":20},\"x\":{\"field\":\"x\"},\"y\":{\"field\":\"y\"}},\"id\":\"5aaeff30-710b-4a94-a452-10ff3d8a7b71\",\"type\":\"Rect\"},{\"attributes\":{\"fill_alpha\":{\"value\":0},\"fill_color\":{\"value\":\"yellow\"},\"height\":{\"units\":\"data\",\"value\":40},\"line_color\":{\"value\":\"yellow\"},\"width\":{\"units\":\"data\",\"value\":20},\"x\":{\"field\":\"x\"},\"y\":{\"field\":\"y\"}},\"id\":\"58ac0a83-c0e5-424d-a67e-7dc1fe749e3d\",\"type\":\"Rect\"},{\"attributes\":{\"source\":{\"id\":\"7afd9379-8e4d-4a3b-a7d5-cf8e7c3992d1\",\"type\":\"ColumnDataSource\"}},\"id\":\"c4935c3b-cc21-4dfd-b94d-deca42eb35ab\",\"type\":\"CDSView\"},{\"attributes\":{\"fill_alpha\":{\"value\":0},\"fill_color\":{\"value\":\"yellow\"},\"height\":{\"units\":\"data\",\"value\":40},\"line_color\":{\"value\":\"yellow\"},\"width\":{\"units\":\"data\",\"value\":20},\"x\":{\"field\":\"x\"},\"y\":{\"field\":\"y\"}},\"id\":\"a83c2d5b-3238-4368-ac86-02be3fbb8f51\",\"type\":\"Rect\"},{\"attributes\":{\"source\":{\"id\":\"eb609fa4-ad67-4843-9ce0-b83a0186befe\",\"type\":\"ColumnDataSource\"}},\"id\":\"129c0d75-f700-4eb4-8fa7-9723553bff1f\",\"type\":\"CDSView\"},{\"attributes\":{\"callback\":null,\"column_names\":[\"y\",\"x\"],\"data\":{\"x\":[480],\"y\":[264]},\"selected\":null,\"selection_policy\":null},\"id\":\"d313d9ec-8cc3-4f1d-9816-906253758e31\",\"type\":\"ColumnDataSource\"},{\"attributes\":{},\"id\":\"a2e18262-ce7d-4d29-96e5-e8c5ffe714af\",\"type\":\"LinearScale\"},{\"attributes\":{\"source\":{\"id\":\"e6a67d2c-de28-4d86-beec-9e2edfcfa0e2\",\"type\":\"ColumnDataSource\"}},\"id\":\"a5153ad1-9573-4a78-b132-35e34ebbe3b4\",\"type\":\"CDSView\"},{\"attributes\":{\"fill_alpha\":{\"value\":0},\"fill_color\":{\"value\":\"yellow\"},\"height\":{\"units\":\"data\",\"value\":20},\"line_color\":{\"value\":\"yellow\"},\"width\":{\"units\":\"data\",\"value\":40},\"x\":{\"field\":\"x\"},\"y\":{\"field\":\"y\"}},\"id\":\"b67a1eea-b60c-4ca6-bb2a-a0f8db4b996d\",\"type\":\"Rect\"},{\"attributes\":{\"fill_alpha\":{\"value\":0.1},\"fill_color\":{\"value\":\"#1f77b4\"},\"height\":{\"units\":\"data\",\"value\":20},\"line_alpha\":{\"value\":0.1},\"line_color\":{\"value\":\"#1f77b4\"},\"width\":{\"units\":\"data\",\"value\":40},\"x\":{\"field\":\"x\"},\"y\":{\"field\":\"y\"}},\"id\":\"90ee8d38-7ab3-4d28-96bc-5f1e135a2883\",\"type\":\"Rect\"},{\"attributes\":{\"fill_alpha\":{\"value\":0.1},\"fill_color\":{\"value\":\"#1f77b4\"},\"height\":{\"units\":\"data\",\"value\":20},\"line_alpha\":{\"value\":0.1},\"line_color\":{\"value\":\"#1f77b4\"},\"width\":{\"units\":\"data\",\"value\":40},\"x\":{\"field\":\"x\"},\"y\":{\"field\":\"y\"}},\"id\":\"acd9ce50-b8d0-4a69-b4be-24a1b7078ebd\",\"type\":\"Rect\"},{\"attributes\":{\"source\":{\"id\":\"d313d9ec-8cc3-4f1d-9816-906253758e31\",\"type\":\"ColumnDataSource\"}},\"id\":\"caf49acd-07fc-468a-a23c-6b0c1fc9a0f8\",\"type\":\"CDSView\"},{\"attributes\":{},\"id\":\"3deaec49-4d47-48b4-ab93-b044b7413d8f\",\"type\":\"BasicTickFormatter\"},{\"attributes\":{\"data_source\":{\"id\":\"da9531ee-3ce3-46ec-914c-4dacb24df606\",\"type\":\"ColumnDataSource\"},\"glyph\":{\"id\":\"90e7f322-d208-4fb5-b303-d3c4586d0b46\",\"type\":\"Rect\"},\"hover_glyph\":null,\"muted_glyph\":null,\"nonselection_glyph\":{\"id\":\"ec53cb11-129f-42af-b652-ef5bb01cff1d\",\"type\":\"Rect\"},\"selection_glyph\":null,\"view\":{\"id\":\"81b1786c-ded0-4187-aee2-da80e0a58c79\",\"type\":\"CDSView\"}},\"id\":\"33599239-907c-457d-88ae-f470326f0e0b\",\"type\":\"GlyphRenderer\"},{\"attributes\":{\"fill_alpha\":{\"value\":0.1},\"fill_color\":{\"value\":\"#1f77b4\"},\"height\":{\"units\":\"data\",\"value\":20},\"line_alpha\":{\"value\":0.1},\"line_color\":{\"value\":\"#1f77b4\"},\"width\":{\"units\":\"data\",\"value\":40},\"x\":{\"field\":\"x\"},\"y\":{\"field\":\"y\"}},\"id\":\"600d9cba-4b29-415f-a8f2-9578a7d9c385\",\"type\":\"Rect\"},{\"attributes\":{\"source\":{\"id\":\"ecd2a883-8e08-4115-98a1-427dc95264be\",\"type\":\"ColumnDataSource\"}},\"id\":\"d1d3ca3e-684c-4ce9-8762-4bbbd0a9329c\",\"type\":\"CDSView\"},{\"attributes\":{\"fill_alpha\":{\"value\":0.1},\"fill_color\":{\"value\":\"#1f77b4\"},\"height\":{\"units\":\"data\",\"value\":40},\"line_alpha\":{\"value\":0.1},\"line_color\":{\"value\":\"#1f77b4\"},\"width\":{\"units\":\"data\",\"value\":20},\"x\":{\"field\":\"x\"},\"y\":{\"field\":\"y\"}},\"id\":\"4b653cc0-fc2b-4e71-9b71-34f41ba3961d\",\"type\":\"Rect\"},{\"attributes\":{\"fill_alpha\":{\"value\":0},\"fill_color\":{\"value\":\"yellow\"},\"height\":{\"units\":\"data\",\"value\":20},\"line_color\":{\"value\":\"yellow\"},\"width\":{\"units\":\"data\",\"value\":40},\"x\":{\"field\":\"x\"},\"y\":{\"field\":\"y\"}},\"id\":\"90e7f322-d208-4fb5-b303-d3c4586d0b46\",\"type\":\"Rect\"},{\"attributes\":{\"source\":{\"id\":\"cb389381-db24-4424-afd2-12d4fb7d9414\",\"type\":\"ColumnDataSource\"}},\"id\":\"08ef52cc-05d8-4313-a467-1f7bc9760509\",\"type\":\"CDSView\"},{\"attributes\":{\"data_source\":{\"id\":\"d313d9ec-8cc3-4f1d-9816-906253758e31\",\"type\":\"ColumnDataSource\"},\"glyph\":{\"id\":\"a83c2d5b-3238-4368-ac86-02be3fbb8f51\",\"type\":\"Rect\"},\"hover_glyph\":null,\"muted_glyph\":null,\"nonselection_glyph\":{\"id\":\"4b653cc0-fc2b-4e71-9b71-34f41ba3961d\",\"type\":\"Rect\"},\"selection_glyph\":null,\"view\":{\"id\":\"caf49acd-07fc-468a-a23c-6b0c1fc9a0f8\",\"type\":\"CDSView\"}},\"id\":\"e80cb881-e797-480b-9a04-2365baba932a\",\"type\":\"GlyphRenderer\"},{\"attributes\":{\"fill_alpha\":{\"value\":0.1},\"fill_color\":{\"value\":\"#1f77b4\"},\"height\":{\"units\":\"data\",\"value\":20},\"line_alpha\":{\"value\":0.1},\"line_color\":{\"value\":\"#1f77b4\"},\"width\":{\"units\":\"data\",\"value\":40},\"x\":{\"field\":\"x\"},\"y\":{\"field\":\"y\"}},\"id\":\"ec53cb11-129f-42af-b652-ef5bb01cff1d\",\"type\":\"Rect\"},{\"attributes\":{},\"id\":\"b35833d8-7a45-4c5e-8cac-245e76b6fcaa\",\"type\":\"BasicTicker\"},{\"attributes\":{\"callback\":null,\"column_names\":[\"y\",\"x\"],\"data\":{\"x\":[504],\"y\":[388]},\"selected\":null,\"selection_policy\":null},\"id\":\"8697463f-4928-4f53-940f-93c26a445341\",\"type\":\"ColumnDataSource\"},{\"attributes\":{\"data_source\":{\"id\":\"e32b2c27-f327-4b48-8a6f-846a130d4cdd\",\"type\":\"ColumnDataSource\"},\"glyph\":{\"id\":\"a613fe72-dfea-450e-9788-0a9c895f0689\",\"type\":\"ImageURL\"},\"hover_glyph\":null,\"muted_glyph\":null,\"nonselection_glyph\":{\"id\":\"53f64368-a795-4991-b025-49d411d71f3a\",\"type\":\"ImageURL\"},\"selection_glyph\":null,\"view\":{\"id\":\"20a3dc1c-8e1b-4dc6-b5ca-7e23a5567aea\",\"type\":\"CDSView\"}},\"id\":\"3bc1330c-c29f-4c1d-94a5-e03beccd4fa8\",\"type\":\"GlyphRenderer\"},{\"attributes\":{\"data_source\":{\"id\":\"dc19bf2d-73da-49c9-b144-ef1f036f5def\",\"type\":\"ColumnDataSource\"},\"glyph\":{\"id\":\"c34bc9f3-2ec6-4575-ae7f-6e1773ce1fe0\",\"type\":\"Rect\"},\"hover_glyph\":null,\"muted_glyph\":null,\"nonselection_glyph\":{\"id\":\"bb6b482f-24d7-40b4-8690-6d33f891315b\",\"type\":\"Rect\"},\"selection_glyph\":null,\"view\":{\"id\":\"60d6a52e-b384-4c84-a181-6b8876a09b6c\",\"type\":\"CDSView\"}},\"id\":\"7cb54d7e-7852-4ece-ae96-921e462365d3\",\"type\":\"GlyphRenderer\"},{\"attributes\":{\"plot\":{\"id\":\"95acd32f-5ce5-47cf-a3d5-2a2cc7a7e679\",\"subtype\":\"Figure\",\"type\":\"Plot\"},\"ticker\":{\"id\":\"cec5d032-2981-4556-97f4-2943d36267b6\",\"type\":\"BasicTicker\"}},\"id\":\"2c9c2ed2-baf7-4533-a7ea-99126340f78a\",\"type\":\"Grid\"},{\"attributes\":{},\"id\":\"94946aaf-2fb0-4b17-acfb-b859a593f434\",\"type\":\"PanTool\"},{\"attributes\":{\"source\":{\"id\":\"9899dde2-13f5-4314-b21c-4aab678737d6\",\"type\":\"ColumnDataSource\"}},\"id\":\"1cef1ff8-9005-479e-9c71-0229b6bd0cc4\",\"type\":\"CDSView\"},{\"attributes\":{\"callback\":null,\"column_names\":[\"y\",\"x\"],\"data\":{\"x\":[565],\"y\":[388]},\"selected\":null,\"selection_policy\":null},\"id\":\"3d962832-9f41-4581-a913-bd238472ea82\",\"type\":\"ColumnDataSource\"},{\"attributes\":{\"h\":{\"units\":\"data\",\"value\":692},\"url\":{\"field\":\"url\"},\"w\":{\"units\":\"data\",\"value\":1086},\"x\":{\"value\":0},\"y\":{\"value\":692}},\"id\":\"53f64368-a795-4991-b025-49d411d71f3a\",\"type\":\"ImageURL\"},{\"attributes\":{\"data_source\":{\"id\":\"e8bb2ab1-7e16-4cd7-80c1-a2eced6ad796\",\"type\":\"ColumnDataSource\"},\"glyph\":{\"id\":\"06d7037d-78e9-4402-a381-43ae428a64ba\",\"type\":\"Rect\"},\"hover_glyph\":null,\"muted_glyph\":null,\"nonselection_glyph\":{\"id\":\"03321ba7-fdb7-43e7-8f4b-b6f73d713afe\",\"type\":\"Rect\"},\"selection_glyph\":null,\"view\":{\"id\":\"6e5a7193-f622-4b07-81b7-c5d37d3fc720\",\"type\":\"CDSView\"}},\"id\":\"c85e0b9b-7f53-4fa4-a3c4-a2adde5dfeb1\",\"type\":\"GlyphRenderer\"},{\"attributes\":{\"fill_alpha\":{\"value\":0},\"fill_color\":{\"value\":\"yellow\"},\"height\":{\"units\":\"data\",\"value\":40},\"line_color\":{\"value\":\"yellow\"},\"width\":{\"units\":\"data\",\"value\":20},\"x\":{\"field\":\"x\"},\"y\":{\"field\":\"y\"}},\"id\":\"991ecd07-04ae-49c7-b425-6aee2f24f02d\",\"type\":\"Rect\"},{\"attributes\":{},\"id\":\"4610faf5-ee8f-4455-904a-e740422d95b7\",\"type\":\"SaveTool\"},{\"attributes\":{\"source\":{\"id\":\"8697463f-4928-4f53-940f-93c26a445341\",\"type\":\"ColumnDataSource\"}},\"id\":\"e6384194-63ac-4ec3-87ac-25b908db5e9d\",\"type\":\"CDSView\"},{\"attributes\":{},\"id\":\"af5edc52-2957-4b20-853f-78d0fe841e52\",\"type\":\"ResetTool\"},{\"attributes\":{\"fill_alpha\":{\"value\":0},\"fill_color\":{\"value\":\"yellow\"},\"height\":{\"units\":\"data\",\"value\":20},\"line_color\":{\"value\":\"yellow\"},\"width\":{\"units\":\"data\",\"value\":40},\"x\":{\"field\":\"x\"},\"y\":{\"field\":\"y\"}},\"id\":\"06d7037d-78e9-4402-a381-43ae428a64ba\",\"type\":\"Rect\"},{\"attributes\":{\"source\":{\"id\":\"dc19bf2d-73da-49c9-b144-ef1f036f5def\",\"type\":\"ColumnDataSource\"}},\"id\":\"60d6a52e-b384-4c84-a181-6b8876a09b6c\",\"type\":\"CDSView\"},{\"attributes\":{\"data_source\":{\"id\":\"3d962832-9f41-4581-a913-bd238472ea82\",\"type\":\"ColumnDataSource\"},\"glyph\":{\"id\":\"a364a553-ed2a-4a10-904e-ab1651730b9f\",\"type\":\"Rect\"},\"hover_glyph\":null,\"muted_glyph\":null,\"nonselection_glyph\":{\"id\":\"08e1b5bf-e0ae-4382-b6c9-0de72caa426b\",\"type\":\"Rect\"},\"selection_glyph\":null,\"view\":{\"id\":\"f26276ef-edf0-4c28-8087-78c6039c71be\",\"type\":\"CDSView\"}},\"id\":\"dbf415ad-0843-40f9-b302-00b5075ef7fe\",\"type\":\"GlyphRenderer\"},{\"attributes\":{\"fill_alpha\":{\"value\":0.1},\"fill_color\":{\"value\":\"#1f77b4\"},\"height\":{\"units\":\"data\",\"value\":20},\"line_alpha\":{\"value\":0.1},\"line_color\":{\"value\":\"#1f77b4\"},\"width\":{\"units\":\"data\",\"value\":40},\"x\":{\"field\":\"x\"},\"y\":{\"field\":\"y\"}},\"id\":\"08e1b5bf-e0ae-4382-b6c9-0de72caa426b\",\"type\":\"Rect\"},{\"attributes\":{\"source\":{\"id\":\"e32b2c27-f327-4b48-8a6f-846a130d4cdd\",\"type\":\"ColumnDataSource\"}},\"id\":\"20a3dc1c-8e1b-4dc6-b5ca-7e23a5567aea\",\"type\":\"CDSView\"},{\"attributes\":{\"callback\":null,\"column_names\":[\"y\",\"x\"],\"data\":{\"x\":[480],\"y\":[434]},\"selected\":null,\"selection_policy\":null},\"id\":\"ae25243d-f45a-4bb6-9082-8b5e3cc7df3c\",\"type\":\"ColumnDataSource\"},{\"attributes\":{\"callback\":null,\"column_names\":[\"y\",\"x\"],\"data\":{\"x\":[565],\"y\":[473]},\"selected\":null,\"selection_policy\":null},\"id\":\"7afd9379-8e4d-4a3b-a7d5-cf8e7c3992d1\",\"type\":\"ColumnDataSource\"},{\"attributes\":{\"fill_alpha\":{\"value\":0},\"fill_color\":{\"value\":\"yellow\"},\"height\":{\"units\":\"data\",\"value\":20},\"line_color\":{\"value\":\"yellow\"},\"width\":{\"units\":\"data\",\"value\":40},\"x\":{\"field\":\"x\"},\"y\":{\"field\":\"y\"}},\"id\":\"aa560f4f-e38d-45e0-8d8d-fb922be35a53\",\"type\":\"Rect\"}],\"root_ids\":[\"95acd32f-5ce5-47cf-a3d5-2a2cc7a7e679\"]},\"title\":\"Bokeh Application\",\"version\":\"0.12.15\"}};\n",
       "  var render_items = [{\"docid\":\"dbfe277a-263e-465c-8886-0b51947ca7e6\",\"elementid\":\"6c029bfc-6448-4abf-89ec-843c793068f6\",\"modelid\":\"95acd32f-5ce5-47cf-a3d5-2a2cc7a7e679\",\"notebook_comms_target\":\"4781fff8-970a-49b6-a541-ad77e6a8e43d\"}];\n",
       "  root.Bokeh.embed.embed_items_notebook(docs_json, render_items);\n",
       "\n",
       "  }\n",
       "  if (root.Bokeh !== undefined) {\n",
       "    embed_document(root);\n",
       "  } else {\n",
       "    var attempts = 0;\n",
       "    var timer = setInterval(function(root) {\n",
       "      if (root.Bokeh !== undefined) {\n",
       "        embed_document(root);\n",
       "        clearInterval(timer);\n",
       "      }\n",
       "      attempts++;\n",
       "      if (attempts > 100) {\n",
       "        console.log(\"Bokeh: ERROR: Unable to run BokehJS code because BokehJS library is missing\")\n",
       "        clearInterval(timer);\n",
       "      }\n",
       "    }, 10, root)\n",
       "  }\n",
       "})(window);"
      ],
      "application/vnd.bokehjs_exec.v0+json": ""
     },
     "metadata": {
      "application/vnd.bokehjs_exec.v0+json": {
       "id": "95acd32f-5ce5-47cf-a3d5-2a2cc7a7e679"
      }
     },
     "output_type": "display_data"
    }
   ],
   "source": [
    "import numpy as np\n",
    "from bokeh.io import push_notebook, show, output_notebook\n",
    "from bokeh.plotting import figure\n",
    "output_notebook()\n",
    "\n",
    "p = figure(x_range=(0,1086), y_range=(0,692),width=1086/2,height=692/2)\n",
    "#p = figure()\n",
    "p.image_url(url=['BaconBits.png'], x=0, y=692,w=1086,h=692,angle=0)\n",
    "led_h = [[],[]]\n",
    "\n",
    "led_h[1].append(p.rect(x=[480],y=[434],width=20,height=40,color='yellow',fill_alpha=0)) # 0\n",
    "led_h[1].append(p.rect(x=[504],y=[473],width=40,height=20,color='yellow',fill_alpha=0)) # 1\n",
    "led_h[1].append(p.rect(x=[565],y=[473],width=40,height=20,color='yellow',fill_alpha=0)) # 2\n",
    "led_h[1].append(p.rect(x=[591],y=[434],width=20,height=40,color='yellow',fill_alpha=0)) # 3\n",
    "led_h[1].append(p.rect(x=[504],y=[388],width=40,height=20,color='yellow',fill_alpha=0)) # 4\n",
    "led_h[1].append(p.rect(x=[565],y=[388],width=40,height=20,color='yellow',fill_alpha=0)) # 5\n",
    "led_h[1].append(p.rect(x=[536],y=[434],width=20,height=40,color='yellow',fill_alpha=0)) # 6\n",
    "\n",
    "diff = 494-324\n",
    "led_h[0].append(p.rect(x=[480],y=[434-diff],width=20,height=40,color='yellow',fill_alpha=0)) # 0\n",
    "led_h[0].append(p.rect(x=[504],y=[473-diff],width=40,height=20,color='yellow',fill_alpha=0)) # 1\n",
    "led_h[0].append(p.rect(x=[565],y=[473-diff],width=40,height=20,color='yellow',fill_alpha=0)) # 2\n",
    "led_h[0].append(p.rect(x=[591],y=[434-diff],width=20,height=40,color='yellow',fill_alpha=0)) # 3\n",
    "led_h[0].append(p.rect(x=[504],y=[388-diff],width=40,height=20,color='yellow',fill_alpha=0)) # 4\n",
    "led_h[0].append(p.rect(x=[565],y=[388-diff],width=40,height=20,color='yellow',fill_alpha=0)) # 5\n",
    "led_h[0].append(p.rect(x=[536],y=[434-diff],width=20,height=40,color='yellow',fill_alpha=0)) # 6\n",
    "\n",
    "show(p, notebook_handle=True)\n",
    "led(0,'off')\n",
    "led(1,'off')\n",
    "state = [127,127]"
   ]
  },
  {
   "cell_type": "code",
   "execution_count": 5,
   "metadata": {},
   "outputs": [],
   "source": [
    "def toggle_led(side,state,led_num):\n",
    "    state[side] = state[side] ^ 2**led_num\n",
    "    led(side,state[side])\n",
    "    x = led_h[side][led_num]\n",
    "    if x.glyph.fill_alpha == 0:\n",
    "        x.glyph.fill_alpha = 1\n",
    "    else:\n",
    "        x.glyph.fill_alpha = 0\n",
    "    push_notebook()\n",
    "    print(state)\n"
   ]
  },
  {
   "cell_type": "code",
   "execution_count": null,
   "metadata": {},
   "outputs": [],
   "source": [
    "toggle_led(0,state,6)"
   ]
  },
  {
   "cell_type": "code",
   "execution_count": null,
   "metadata": {},
   "outputs": [],
   "source": [
    "x = led_h[0][3]\n",
    "x.glyph.fill_alpha = 1\n",
    "push_notebook()"
   ]
  },
  {
   "cell_type": "code",
   "execution_count": 8,
   "metadata": {},
   "outputs": [],
   "source": [
    "from bokeh.layouts import widgetbox\n",
    "from bokeh.models.widgets import Toggle\n",
    "\n",
    "def test_fun():\n",
    "    print('hello')\n",
    "    toggle.label = 'Potato'\n",
    "    push_notebook()\n",
    "\n",
    "toggle = Toggle(label=\"Foo\", button_type=\"default\")\n",
    "toggle.on_click(test_fun)\n",
    "\n",
    "#show(widgetbox(toggle), notebook_handle=True)"
   ]
  },
  {
   "cell_type": "code",
   "execution_count": null,
   "metadata": {},
   "outputs": [],
   "source": [
    "play = True\n",
    "\n",
    "def play_pause(arg):\n",
    "    push_notebook()\n",
    "    toggle.\n",
    "\n",
    "toggle.on_click(play_pause)\n"
   ]
  },
  {
   "cell_type": "code",
   "execution_count": null,
   "metadata": {},
   "outputs": [],
   "source": [
    "toggle.label = 'Potato'\n",
    "push_notebook()"
   ]
  },
  {
   "cell_type": "code",
   "execution_count": null,
   "metadata": {},
   "outputs": [],
   "source": [
    "from __future__ import print_function\n",
    "from ipywidgets import interact, interactive, fixed, interact_manual\n",
    "import ipywidgets as widgets\n",
    "\n",
    "a = widgets.IntSlider()\n",
    "b = widgets.IntSlider()\n",
    "c = widgets.IntSlider()\n",
    "ui = widgets.HBox([a, b, c])\n",
    "def f(a, b, c):\n",
    "    print((a, b, c))\n",
    "\n",
    "out = widgets.interactive_output(f, {'a': a, 'b': b, 'c': c})\n",
    "\n",
    "display(ui, out)"
   ]
  },
  {
   "cell_type": "code",
   "execution_count": 9,
   "metadata": {},
   "outputs": [
    {
     "data": {
      "text/html": [
       "\n",
       "<div class=\"bk-root\">\n",
       "    <div class=\"bk-plotdiv\" id=\"cd9ffecf-3f9e-4e9e-abf7-d20dfac54ffe\"></div>\n",
       "</div>"
      ]
     },
     "metadata": {},
     "output_type": "display_data"
    },
    {
     "data": {
      "application/javascript": [
       "(function(root) {\n",
       "  function embed_document(root) {\n",
       "    \n",
       "  var docs_json = {\"8d63efdc-1743-4539-b98e-f11ed4ef5f4d\":{\"roots\":{\"references\":[{\"attributes\":{\"children\":[{\"id\":\"04d53dde-b8c2-42f8-b0c6-0075dc2373e1\",\"type\":\"Toggle\"}]},\"id\":\"837b8620-4b2c-4d89-a8e3-0e18c0eb611f\",\"type\":\"WidgetBox\"},{\"attributes\":{\"button_type\":\"success\",\"callback\":null,\"icon\":null,\"label\":\"Foo\"},\"id\":\"04d53dde-b8c2-42f8-b0c6-0075dc2373e1\",\"type\":\"Toggle\"}],\"root_ids\":[\"837b8620-4b2c-4d89-a8e3-0e18c0eb611f\"]},\"title\":\"Bokeh Application\",\"version\":\"0.12.15\"}};\n",
       "  var render_items = [{\"docid\":\"8d63efdc-1743-4539-b98e-f11ed4ef5f4d\",\"elementid\":\"cd9ffecf-3f9e-4e9e-abf7-d20dfac54ffe\",\"modelid\":\"837b8620-4b2c-4d89-a8e3-0e18c0eb611f\"}];\n",
       "  root.Bokeh.embed.embed_items_notebook(docs_json, render_items);\n",
       "\n",
       "  }\n",
       "  if (root.Bokeh !== undefined) {\n",
       "    embed_document(root);\n",
       "  } else {\n",
       "    var attempts = 0;\n",
       "    var timer = setInterval(function(root) {\n",
       "      if (root.Bokeh !== undefined) {\n",
       "        embed_document(root);\n",
       "        clearInterval(timer);\n",
       "      }\n",
       "      attempts++;\n",
       "      if (attempts > 100) {\n",
       "        console.log(\"Bokeh: ERROR: Unable to run BokehJS code because BokehJS library is missing\")\n",
       "        clearInterval(timer);\n",
       "      }\n",
       "    }, 10, root)\n",
       "  }\n",
       "})(window);"
      ],
      "application/vnd.bokehjs_exec.v0+json": ""
     },
     "metadata": {
      "application/vnd.bokehjs_exec.v0+json": {
       "id": "837b8620-4b2c-4d89-a8e3-0e18c0eb611f"
      }
     },
     "output_type": "display_data"
    }
   ],
   "source": [
    "from bokeh.io import output_file, show\n",
    "from bokeh.layouts import widgetbox\n",
    "from bokeh.models.widgets import Toggle\n",
    "\n",
    "output_file(\"toggle.html\")\n",
    "\n",
    "toggle = Toggle(label=\"Foo\", button_type=\"success\")\n",
    "\n",
    "show(widgetbox(toggle))"
   ]
  },
  {
   "cell_type": "code",
   "execution_count": null,
   "metadata": {},
   "outputs": [],
   "source": []
  }
 ],
 "metadata": {
  "kernelspec": {
   "display_name": "Python 2",
   "language": "python",
   "name": "python2"
  },
  "language_info": {
   "codemirror_mode": {
    "name": "ipython",
    "version": 2
   },
   "file_extension": ".py",
   "mimetype": "text/x-python",
   "name": "python",
   "nbconvert_exporter": "python",
   "pygments_lexer": "ipython2",
   "version": "2.7.13"
  }
 },
 "nbformat": 4,
 "nbformat_minor": 2
}
