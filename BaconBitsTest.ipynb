{
 "cells": [
  {
   "cell_type": "markdown",
   "metadata": {},
   "source": [
    "This is a notebook that I have created to test the various features of the BaconBits cape.\n",
    "\n",
    "I received the PocketBeagle when I enrolled in the [e-ale course](https://e-ale.org/) at the 2018 [Embedded Linux Conference](https://events.linuxfoundation.org/events/elc-openiot-north-america-2018/).\n",
    "\n",
    "The resources for this course at contained on [github](https://github.com/e-ale).\n",
    "\n",
    "The code that I am using to initially test the features of the BaconBits cape is located [here](https://github.com/e-ale/Code/tree/master/RESOURCES/pocketbeagle)."
   ]
  },
  {
   "cell_type": "markdown",
   "metadata": {},
   "source": [
    "## Wifi setup"
   ]
  },
  {
   "cell_type": "markdown",
   "metadata": {},
   "source": [
    "In order to easily use this notebook, I first need to get the PocketBeagle hooked up to the internet.\n",
    "\n",
    "To do this, on my laptop, I type:\n",
    "```\n",
    "sudo su\n",
    "iptables --table nat --append POSTROUTING --out-interface wlp3s0 -j MASQUERADE\n",
    "iptables --append FORWARD --in-interface enx38d269566e5d -j ACCEPT\n",
    "echo 1 > /proc/sys/net/ipv4/ip_forward\n",
    "exit\n",
    "```\n",
    "and then on the PocketBeagle I type:\n",
    "```\n",
    "sudo su\n",
    "ip route add default via 192.168.7.1\n",
    "echo \"nameserver 8.8.8.8\" >> /etc/resolv.conf\n",
    "exit\n",
    "```\n",
    "\n",
    "I would like to not have to run the above commands after every reboot of the PocketBeagle, but at the moment, I don't know had to do that.\n",
    "\n",
    "I then cloned the git repository using:\n",
    "```\n",
    "git clone https://github.com/b-trav/BaconBitsIntro.git\n",
    "```\n",
    "\n",
    "Initially when I set up git I did these commands to set my username, email, and to allow me to push without typing my github password:\n",
    "```\n",
    "git config --global user.name \"Ben Travaglione\"\n",
    "git config --global user.email \"ben@travaglione.com\"\n",
    "git config --global credential.helper store\n",
    "```"
   ]
  },
  {
   "cell_type": "markdown",
   "metadata": {},
   "source": [
    "## Jupyter"
   ]
  },
  {
   "cell_type": "markdown",
   "metadata": {},
   "source": [
    "Evidently, I am writing this notebook in Jupyter, and the notebook is designed to be run on the PocketBeagle, thus you need to get Jupyter up and running on the PocketBeagle.\n",
    "\n",
    "This is accomplished with the following commands:\n",
    "\n",
    "```\n",
    "jupyter notebook --generate-config\n",
    "```\n",
    "I then allow external access to the notebook server by editing the jupyter config file:\n",
    "```\n",
    "vim .jupyter/jupyter_notebook_config.py\n",
    "```\n",
    "and uncommenting\n",
    "```\n",
    "c.NotebookApp.ip = '*'\n",
    "```\n",
    "and\n",
    "```\n",
    "c.NotebookApp.allow_root = True\n",
    "```\n",
    "\n",
    "I also need to add password access to the notebook server:\n",
    "```\n",
    "jupyter notebook password\n",
    "```\n",
    "I allow jupyter to boot as root at startup by adding:\n",
    "```\n",
    "@reboot /usr/bin/python /usr/local/bin/jupyter-notebook --config /home/debian/.jupyter/jupyter_notebook_config.py\n",
    "```\n",
    "to my crontab by typing\n",
    "```\n",
    "sudo crontab -e\n",
    "```\n",
    "\n",
    "These days I find Jupyter annoying to use without installing extensions, so these are the commands to install some Jupyter extensions:\n",
    "```\n",
    "sudo -H pip install --upgrade pip\n",
    "sudo apt-get install python-dev libxml2-dev libxslt1-dev zlib1g-dev\n",
    "sudo -H pip install jupyter_contrib_nbextensions\n",
    "jupyter contrib nbextension install --user\n",
    "jupyter nbextension enable codefolding/main\n",
    "jupyter nbextension enable freeze/main\n",
    "jupyter nbextension enable spellchecker/main\n",
    "jupyter nbextension enable toggle_all_line_numbers/main\n",
    "jupyter nbextension enable collapsible_headings/main\n",
    "jupyter nbextension enable init_cell/main\n",
    "jupyter nbextension enable scratchpad/main\n",
    "jupyter nbextension enable toc2/main\n",
    "\n",
    "sudo -H pip install jupyter_nbextensions_configurator\n",
    "jupyter nbextensions_configurator enable --user\n",
    "```"
   ]
  },
  {
   "cell_type": "markdown",
   "metadata": {},
   "source": [
    "## Potentiometer"
   ]
  },
  {
   "cell_type": "markdown",
   "metadata": {},
   "source": [
    "Let's look at the potentiometer on the BaconBits.\n",
    "\n",
    "In bash, we can grab the value of the potentiometer very easily:"
   ]
  },
  {
   "cell_type": "code",
   "execution_count": 1,
   "metadata": {},
   "outputs": [
    {
     "name": "stdout",
     "output_type": "stream",
     "text": [
      "/sys/bus/iio/devices/iio:device0/in_voltage0_raw\n",
      "465\n"
     ]
    }
   ],
   "source": [
    "f = '/sys/bus/iio/devices/iio\\:device0/in_voltage0_raw'\n",
    "!ls $f\n",
    "!cat $f\n"
   ]
  },
  {
   "cell_type": "markdown",
   "metadata": {},
   "source": [
    "This can be a bit trickier in python because it does not seem to like the filename for some reason:"
   ]
  },
  {
   "cell_type": "code",
   "execution_count": 2,
   "metadata": {},
   "outputs": [
    {
     "ename": "IOError",
     "evalue": "[Errno 2] No such file or directory: '/sys/bus/iio/devices/iio\\\\:device0/in_voltage0_raw'",
     "output_type": "error",
     "traceback": [
      "\u001b[0;31m---------------------------------------------------------------------------\u001b[0m",
      "\u001b[0;31mIOError\u001b[0m                                   Traceback (most recent call last)",
      "\u001b[0;32m<ipython-input-2-62a64fec0b8a>\u001b[0m in \u001b[0;36m<module>\u001b[0;34m()\u001b[0m\n\u001b[0;32m----> 1\u001b[0;31m \u001b[0;32mwith\u001b[0m \u001b[0mopen\u001b[0m\u001b[0;34m(\u001b[0m\u001b[0mf\u001b[0m\u001b[0;34m,\u001b[0m\u001b[0;34m'r'\u001b[0m\u001b[0;34m)\u001b[0m \u001b[0;32mas\u001b[0m \u001b[0mpot\u001b[0m\u001b[0;34m:\u001b[0m\u001b[0;34m\u001b[0m\u001b[0m\n\u001b[0m\u001b[1;32m      2\u001b[0m     \u001b[0mval\u001b[0m \u001b[0;34m=\u001b[0m \u001b[0mpot\u001b[0m\u001b[0;34m.\u001b[0m\u001b[0mreadline\u001b[0m\u001b[0;34m(\u001b[0m\u001b[0;34m)\u001b[0m\u001b[0;34m\u001b[0m\u001b[0m\n\u001b[1;32m      3\u001b[0m     \u001b[0;32mprint\u001b[0m\u001b[0;34m(\u001b[0m\u001b[0mval\u001b[0m\u001b[0;34m)\u001b[0m\u001b[0;34m\u001b[0m\u001b[0m\n",
      "\u001b[0;31mIOError\u001b[0m: [Errno 2] No such file or directory: '/sys/bus/iio/devices/iio\\\\:device0/in_voltage0_raw'"
     ]
    }
   ],
   "source": [
    "with open(f,'r') as pot:\n",
    "    val = pot.readline()\n",
    "    print(val)"
   ]
  },
  {
   "cell_type": "markdown",
   "metadata": {},
   "source": [
    "I can get around this problem by creating a symbolic link:"
   ]
  },
  {
   "cell_type": "code",
   "execution_count": 3,
   "metadata": {},
   "outputs": [],
   "source": [
    "!rm potentiometer\n",
    "!ln -s /sys/bus/iio/devices/iio\\:device0/in_voltage0_raw potentiometer"
   ]
  },
  {
   "cell_type": "code",
   "execution_count": 4,
   "metadata": {},
   "outputs": [
    {
     "name": "stdout",
     "output_type": "stream",
     "text": [
      "465\n",
      "\n"
     ]
    }
   ],
   "source": [
    "lnf = 'potentiometer'\n",
    "with open(lnf,'r') as pot:\n",
    "    val = pot.readline()\n",
    "    print(val)"
   ]
  },
  {
   "cell_type": "markdown",
   "metadata": {},
   "source": [
    "But this seems like a bit of a hack!"
   ]
  },
  {
   "cell_type": "markdown",
   "metadata": {},
   "source": [
    "# User Button"
   ]
  },
  {
   "cell_type": "markdown",
   "metadata": {},
   "source": [
    "In bash, we can get the status of the user button with:"
   ]
  },
  {
   "cell_type": "code",
   "execution_count": 5,
   "metadata": {},
   "outputs": [
    {
     "name": "stdout",
     "output_type": "stream",
     "text": [
      "1\r\n"
     ]
    }
   ],
   "source": [
    "!cat /sys/class/gpio/gpio45/value"
   ]
  },
  {
   "cell_type": "code",
   "execution_count": 10,
   "metadata": {},
   "outputs": [
    {
     "name": "stdout",
     "output_type": "stream",
     "text": [
      "Current User-button value: 1\n",
      " (Interrupt the kernel to quit)\n"
     ]
    },
    {
     "ename": "KeyboardInterrupt",
     "evalue": "",
     "output_type": "error",
     "traceback": [
      "\u001b[0;31m---------------------------------------------------------------------------\u001b[0m",
      "\u001b[0;31mKeyboardInterrupt\u001b[0m                         Traceback (most recent call last)",
      "\u001b[0;32m<ipython-input-10-72df3af4130f>\u001b[0m in \u001b[0;36m<module>\u001b[0;34m()\u001b[0m\n\u001b[1;32m      8\u001b[0m \u001b[0;32mwhile\u001b[0m \u001b[0mTrue\u001b[0m\u001b[0;34m:\u001b[0m\u001b[0;34m\u001b[0m\u001b[0m\n\u001b[1;32m      9\u001b[0m     \u001b[0;32mwith\u001b[0m \u001b[0mopen\u001b[0m\u001b[0;34m(\u001b[0m\u001b[0mbutton_filename\u001b[0m\u001b[0;34m,\u001b[0m\u001b[0;34m'r'\u001b[0m\u001b[0;34m)\u001b[0m \u001b[0;32mas\u001b[0m \u001b[0mbutton_file\u001b[0m\u001b[0;34m:\u001b[0m\u001b[0;34m\u001b[0m\u001b[0m\n\u001b[0;32m---> 10\u001b[0;31m         \u001b[0mval\u001b[0m \u001b[0;34m=\u001b[0m \u001b[0mbutton_file\u001b[0m\u001b[0;34m.\u001b[0m\u001b[0mreadline\u001b[0m\u001b[0;34m(\u001b[0m\u001b[0;34m)\u001b[0m\u001b[0;34m\u001b[0m\u001b[0m\n\u001b[0m\u001b[1;32m     11\u001b[0m     \u001b[0;32mif\u001b[0m \u001b[0;32mnot\u001b[0m \u001b[0;34m(\u001b[0m\u001b[0mval\u001b[0m \u001b[0;34m==\u001b[0m \u001b[0mlast_val\u001b[0m\u001b[0;34m)\u001b[0m\u001b[0;34m:\u001b[0m\u001b[0;34m\u001b[0m\u001b[0m\n\u001b[1;32m     12\u001b[0m         \u001b[0mlast_val\u001b[0m \u001b[0;34m=\u001b[0m \u001b[0mval\u001b[0m\u001b[0;34m\u001b[0m\u001b[0m\n",
      "\u001b[0;31mKeyboardInterrupt\u001b[0m: "
     ]
    }
   ],
   "source": [
    "from IPython.display import clear_output\n",
    "\n",
    "button_filename = '/sys/class/gpio/gpio45/value'\n",
    "with open(button_filename,'r') as button_file:\n",
    "    val = button_file.readline()\n",
    "last_val = val\n",
    "print(\"Current User-button value: {} (Interrupt the kernel to quit)\".format(val))\n",
    "while True:\n",
    "    with open(button_filename,'r') as button_file:\n",
    "        val = button_file.readline()\n",
    "    if not (val == last_val):\n",
    "        last_val = val\n",
    "        clear_output()\n",
    "        print(\"Current User-button value: {} (Interrupt the kernel to quit)\".format(val))\n",
    "        \n"
   ]
  },
  {
   "cell_type": "markdown",
   "metadata": {},
   "source": [
    "# SPI 7-segment LEDs"
   ]
  },
  {
   "cell_type": "markdown",
   "metadata": {},
   "source": [
    "In bash, we can turn on the 7-segment LEDs buy typing:\n",
    "```\n",
    "echo -ne '\\x40\\x01\\x02' | sudo tee /dev/spidev2.1 | xxd\n",
    "```\n",
    "In python, we can do the following:"
   ]
  },
  {
   "cell_type": "code",
   "execution_count": 23,
   "metadata": {},
   "outputs": [
    {
     "name": "stdout",
     "output_type": "stream",
     "text": [
      "@\u0001\u0002\n"
     ]
    }
   ],
   "source": [
    "import binascii\n",
    "hexstr = '400102'\n",
    "binstr = binascii.unhexlify(hexstr)\n",
    "print(binstr)"
   ]
  },
  {
   "cell_type": "code",
   "execution_count": 25,
   "metadata": {},
   "outputs": [],
   "source": [
    "with open('/dev/spidev2.1','wb') as f:\n",
    "    f.write(binstr)"
   ]
  },
  {
   "cell_type": "code",
   "execution_count": null,
   "metadata": {},
   "outputs": [],
   "source": []
  }
 ],
 "metadata": {
  "kernelspec": {
   "display_name": "Python 2",
   "language": "python",
   "name": "python2"
  },
  "language_info": {
   "codemirror_mode": {
    "name": "ipython",
    "version": 2
   },
   "file_extension": ".py",
   "mimetype": "text/x-python",
   "name": "python",
   "nbconvert_exporter": "python",
   "pygments_lexer": "ipython2",
   "version": "2.7.13"
  }
 },
 "nbformat": 4,
 "nbformat_minor": 2
}
